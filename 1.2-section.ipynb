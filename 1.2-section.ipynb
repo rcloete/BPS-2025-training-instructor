{
 "cells": [
  {
   "cell_type": "markdown",
   "id": "65afc88b-ee4f-459a-8d0d-51c333ff90c4",
   "metadata": {},
   "source": [
    "# Section 1 - Quantifying the association of a feature with an outcome"
   ]
  },
  {
   "cell_type": "markdown",
   "id": "611b9e4c-2146-47d8-940a-a463e09c5576",
   "metadata": {},
   "source": [
    "### Before you begin\n",
    "* Remember - [download the background & theory packet](https://drive.google.com/file/d/1sOxAyo2lRvEjULoF53rvWa9uz6nlysDN/view?usp=drive_link) accompanying this training "
   ]
  },
  {
   "cell_type": "markdown",
   "id": "2b6261b1-aff3-4057-a9de-7ecec2b9685b",
   "metadata": {},
   "source": [
    "## Example 1.2\n",
    "\n",
    "* Now, let's do an example together following Steps 0-4"
   ]
  },
  {
   "cell_type": "markdown",
   "id": "39a51be3-e39c-409e-bf31-64a2b56b31a4",
   "metadata": {},
   "source": [
    "**Application 1.2**: We hypothesize that, because proteins containing native entanglements are more likely to misfold, they are also more likely to be linked with disease than proteins lacking native entanglements.\n",
    "\n",
    "* One way to test this hypothesis is to once again create a 2 x 2 contingency table, compute the odds ratio, and then use Fisher's Exact Test to compute a *p*-value\n",
    "* We need information on proteins that contain native entanglements as well as information on which proteins are implicated in disease"
   ]
  },
  {
   "cell_type": "markdown",
   "id": "c90b75c0-f932-425f-b1d3-ceb15e4874a4",
   "metadata": {},
   "source": [
    "### Step 0 - Load libraries\n",
    "* Run the below code cell to load all of the libraries needed for the subsequent analysis"
   ]
  },
  {
   "cell_type": "code",
   "execution_count": null,
   "id": "cb8eaf1a-7864-458d-b869-cab593a0192f",
   "metadata": {},
   "outputs": [],
   "source": [
    "import numpy as np\n",
    "import pandas as pd\n",
    "from scipy.stats import fisher_exact\n",
    "import matplotlib.pyplot as plt"
   ]
  },
  {
   "cell_type": "markdown",
   "id": "83d921dd-49f4-4a25-95dc-6d6651475e27",
   "metadata": {},
   "source": [
    "### Step 1 - Load the data\n",
    "\n",
    "* One of the provided data files includes entanglement status and the proteins linked with disease in humans in a readily usable form\n",
    "* The entanglement status for human proteins was determined by analyzing AlphaFold protein structure predictions; proteins with low-quality predictions were eliminated from the analysis\n",
    "* Links between proteins and disease were determined using the database DISGENET (https://disgenet.com/)"
   ]
  },
  {
   "cell_type": "code",
   "execution_count": null,
   "id": "ae149e50-efe1-4371-bb93-61004c46be0e",
   "metadata": {},
   "outputs": [],
   "source": [
    "# \"data2\" is a pandas DataFrame object\n",
    "data_path = \"/home/jovyan/data-store/data/iplant/home/shared/NCEMS/BPS-training-2025/\"\n",
    "data2     = pd.read_csv(data_path+\"entanglement-disease-association.csv\")"
   ]
  },
  {
   "cell_type": "markdown",
   "id": "5926300d-307a-4480-8c1f-531c47f79f3d",
   "metadata": {},
   "source": [
    "### Step 2 - Explore the data\n",
    "\n",
    "* We will once again run a few simple commands to explore the data"
   ]
  },
  {
   "cell_type": "code",
   "execution_count": null,
   "id": "8d9cc554-e0c5-4870-8ae3-4f96443971d7",
   "metadata": {},
   "outputs": [],
   "source": [
    "# first, print a quick summary\n",
    "print (\"Create a quick summary of the DataFrame:\\n\")\n",
    "data2.info()\n",
    "\n",
    "# second, print the first 10 rows of data2\n",
    "print (\"\\nPrint the first 10 rows of the DataFrame:\\n\")\n",
    "display(data2.head(10))\n",
    "\n",
    "# third, check to see if all rows correspond to a unique gene identifier\n",
    "N_unique = len(data2[\"gene\"].unique())\n",
    "print (\"The number of unique gene IDs is:\", N_unique)"
   ]
  },
  {
   "cell_type": "markdown",
   "id": "824d39a3-662c-4c4a-8cbc-b5f44c226f16",
   "metadata": {},
   "source": [
    "* We can see from these results that there are 5,366 rows in the table and all of the entries in all columns have values (i.e., there are no `NaN` entries)\n",
    "* We can also see that there are no duplicate rows - the number of unique values in the column `gene` is equal to the number of rows in `data2`"
   ]
  },
  {
   "cell_type": "markdown",
   "id": "6dd070a3-25e5-45f4-b315-3f3a08bb7b94",
   "metadata": {},
   "source": [
    "### Step 3 - Run the analysis\n",
    "\n",
    "* Now that we have loaded and examined our data, we are ready to carry out the analysis of the association\n",
    "* Take a minute to think about what your contingency table will look like; what will the rows and columns represent? When you have your answer, run the below code cell to see a sketch of the contingency table for this hypothesis"
   ]
  },
  {
   "cell_type": "code",
   "execution_count": null,
   "id": "242e1973-9932-4c81-b0d9-45aea9e49121",
   "metadata": {},
   "outputs": [],
   "source": [
    "# print a blank contingency table in the format needed for this hypothesis\n",
    "contingency_table = pd.DataFrame({\"Protein Disease Linked\"    : [\"a\", \"c\"], \n",
    "                                  \"Protein Not Disease Linked\": [\"b\", \"d\"]},\n",
    "                                  index = [\"Protein Entangled\", \"Protein Not Entangled\"])\n",
    "\n",
    "# print the output\n",
    "print (\"This is our (blank) contingency table:\\n\")\n",
    "\n",
    "# create a table from our contingency_table using matplotlib\n",
    "plt.clf()\n",
    "fig, ax    = plt.subplots(figsize = (5, 2))\n",
    "ax.axis(\"tight\")\n",
    "ax.axis(\"off\")\n",
    "cell_text  = contingency_table.reset_index().values.tolist()\n",
    "col_labels = [\"\"] + contingency_table.columns.tolist()\n",
    "table      = ax.table(cellText=cell_text, colLabels=col_labels, loc=\"center\", cellLoc=\"center\")\n",
    "table.auto_set_font_size(False)\n",
    "table.set_fontsize(14)  \n",
    "table.scale(2.5, 2)  \n",
    "plt.show()"
   ]
  },
  {
   "cell_type": "markdown",
   "id": "7ddcb07f-bf16-4616-a3b5-597ca86b0bf9",
   "metadata": {},
   "source": [
    "* As in **Example 1.1**, we now need to compute the values of {a, b, c, d), insert them into a DataFrame, and run the `fisher_exact` function from `scipy.stats` to compute the odds ratio and *p*-value"
   ]
  },
  {
   "cell_type": "code",
   "execution_count": null,
   "id": "4456f483-e16e-4c5f-9d8d-25ff0a163e19",
   "metadata": {},
   "outputs": [],
   "source": [
    "# compute the values of {a, b, c, d} and construct the contingency table\n",
    "a = len(data2[(data2[\"entanglement\"] == \"Yes\" ) & (data2[\"disease-linked\"] == \"Yes\")])\n",
    "b = len(data2[(data2[\"entanglement\"] == \"Yes\" ) & (data2[\"disease-linked\"] == \"No\")])\n",
    "c = len(data2[(data2[\"entanglement\"] == \"No\"  ) & (data2[\"disease-linked\"] == \"Yes\")])\n",
    "d = len(data2[(data2[\"entanglement\"] == \"No\"  ) & (data2[\"disease-linked\"] == \"No\")])\n",
    "\n",
    "# create the contingency table as a pandas DataFrame object\n",
    "contingency_table = pd.DataFrame({\"Protein Disease Linked\"    : [a, c], \n",
    "                                  \"Protein Not Disease Linked\": [b, d]},\n",
    "                                 index = [\"Protein Entangled\", \"Protein Not Entangled\"])\n",
    "\n",
    "# print the contingency table\n",
    "print (\"This is our contingency table:\\n\")\n",
    "\n",
    "# create a table from our contingency_table using matplotlib\n",
    "plt.clf()\n",
    "fig, ax    = plt.subplots(figsize = (5, 2))\n",
    "ax.axis(\"tight\")\n",
    "ax.axis(\"off\")\n",
    "cell_text  = contingency_table.reset_index().values.tolist()\n",
    "col_labels = [\"\"] + contingency_table.columns.tolist()\n",
    "table      = ax.table(cellText=cell_text, colLabels=col_labels, loc=\"center\", cellLoc=\"center\")\n",
    "table.auto_set_font_size(False)\n",
    "table.set_fontsize(14)  \n",
    "table.scale(2.5, 2)  \n",
    "plt.show()\n",
    "\n",
    "# use the fisher_exact function from scipy.stats to compute the odds ratio and p-value\n",
    "odds_ratio, fisher_p_value = fisher_exact(contingency_table, alternative = 'two-sided')\n",
    "\n",
    "print (\"The odds ratio is:\", '%.2f' %odds_ratio)\n",
    "print (\"The p-value is   :\", '%.2e' %fisher_p_value)"
   ]
  },
  {
   "cell_type": "markdown",
   "id": "1275c092-a19c-4c56-8953-1ba20c78fe58",
   "metadata": {},
   "source": [
    "### Step 4 - Interpret the results\n",
    "\n",
    "* Use the quiz question at the QR code/link below to test your understanding\n",
    "\n",
    "![](../images/section-1-example-2.png)\n",
    "\n",
    "[Quiz Link](https://forms.gle/3YNqSwi7rR1b2AyT7)"
   ]
  }
 ],
 "metadata": {
  "kernelspec": {
   "display_name": "Python 3 (ipykernel)",
   "language": "python",
   "name": "python3"
  },
  "language_info": {
   "codemirror_mode": {
    "name": "ipython",
    "version": 3
   },
   "file_extension": ".py",
   "mimetype": "text/x-python",
   "name": "python",
   "nbconvert_exporter": "python",
   "pygments_lexer": "ipython3",
   "version": "3.11.9"
  }
 },
 "nbformat": 4,
 "nbformat_minor": 5
}

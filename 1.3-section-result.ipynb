{
 "cells": [
  {
   "cell_type": "markdown",
   "id": "39a51be3-e39c-409e-bf31-64a2b56b31a4",
   "metadata": {},
   "source": [
    "# Section 1 - Quantifying the association of a feature with an outcome"
   ]
  },
  {
   "cell_type": "markdown",
   "id": "0da81566-b4a9-40ed-9685-0d8567723f39",
   "metadata": {},
   "source": [
    "## Example 1.3\n",
    "\n",
    "**Application 1.3**: We hypothesize that misfolding occurs preferentially in the entangled regions of a protein's primary structure\n",
    "\n",
    "* This hypothesis is related to the hypothesis stated in **Application 1.1**; in this case, rather than considering whether each protein is entangled, we consider here individual amino acids and whether each is involved in an entanglement (detected by analysis of protein structures) and is misfolded (again from LiP-MS experiments).\n",
    "\n",
    "* Take a moment to think - **what should your contingency table look like?** What are the columns, and what are the rows?\n",
    "\n",
    "* Carry out this last example solo by running each of the following cells in sequence\n",
    "* Once you have obtained the result at the end, try explaining your conclusions to at least one person sitting near you"
   ]
  },
  {
   "cell_type": "markdown",
   "id": "6d479b83-1a02-4768-91b8-e6d8fdfaea95",
   "metadata": {},
   "source": [
    "### Step 0 - Load libraries\n",
    "\n",
    "* We first need to make sure we have access to all of the functions etc. that we need for this analysis - let's load some libraries"
   ]
  },
  {
   "cell_type": "code",
   "execution_count": 1,
   "id": "a70a201a-cd36-4a30-9d92-9c7a9124eb59",
   "metadata": {},
   "outputs": [],
   "source": [
    "import numpy as np\n",
    "import pandas as pd\n",
    "from scipy.stats import fisher_exact\n",
    "import matplotlib.pyplot as plt"
   ]
  },
  {
   "cell_type": "markdown",
   "id": "33dc5834-e39d-4259-8e15-d1453af1bc89",
   "metadata": {},
   "source": [
    "### Step 1 - Load the data\n",
    "* We will use a data set containing per-residue information on entanglements and misfolding from Lip-MS"
   ]
  },
  {
   "cell_type": "code",
   "execution_count": 2,
   "id": "7f04f0dd-2128-4ded-a6a8-06d3c7c65bff",
   "metadata": {},
   "outputs": [],
   "source": [
    "# data3 is a pandas DataFrame object\n",
    "data_path = \"/home/jovyan/data-store/data/iplant/home/shared/NCEMS/BPS-training-2025/\"\n",
    "data3     = pd.read_csv(data_path+\"Ecoli_entanglement_data.csv\")"
   ]
  },
  {
   "cell_type": "markdown",
   "id": "7bd3772c-2cde-4d50-b055-5021a4b51865",
   "metadata": {},
   "source": [
    "### Step 2 - Explore the data\n",
    "* Run a few simple commands to learn more about the data set"
   ]
  },
  {
   "cell_type": "code",
   "execution_count": 3,
   "id": "f86562ee-721a-448b-accc-e89d461392a2",
   "metadata": {},
   "outputs": [
    {
     "name": "stdout",
     "output_type": "stream",
     "text": [
      "Create a quick summary of the DataFrame:\n",
      "\n",
      "<class 'pandas.core.frame.DataFrame'>\n",
      "RangeIndex: 384582 entries, 0 to 384581\n",
      "Data columns (total 14 columns):\n",
      " #   Column                   Non-Null Count   Dtype  \n",
      "---  ------                   --------------   -----  \n",
      " 0   gene                     384582 non-null  object \n",
      " 1   pdb                      384582 non-null  object \n",
      " 2   chain                    384582 non-null  object \n",
      " 3   uniprot_length           384582 non-null  int64  \n",
      " 4   ent_present              384582 non-null  bool   \n",
      " 5   pdb_resid                384582 non-null  int64  \n",
      " 6   resname                  384582 non-null  object \n",
      " 7   AA                       384579 non-null  object \n",
      " 8   region                   384582 non-null  int64  \n",
      " 9   mapped_resid             379789 non-null  float64\n",
      " 10  cut_C_Rall               384582 non-null  bool   \n",
      " 11  cut_CD_Rall              384582 non-null  bool   \n",
      " 12  cut_CG_Rall              384582 non-null  bool   \n",
      " 13  num_unique_entanglement  384582 non-null  int64  \n",
      "dtypes: bool(4), float64(1), int64(4), object(5)\n",
      "memory usage: 30.8+ MB\n",
      "\n",
      "Print the first 10 rows of the DataFrame:\n",
      "\n"
     ]
    },
    {
     "data": {
      "text/html": [
       "<div>\n",
       "<style scoped>\n",
       "    .dataframe tbody tr th:only-of-type {\n",
       "        vertical-align: middle;\n",
       "    }\n",
       "\n",
       "    .dataframe tbody tr th {\n",
       "        vertical-align: top;\n",
       "    }\n",
       "\n",
       "    .dataframe thead th {\n",
       "        text-align: right;\n",
       "    }\n",
       "</style>\n",
       "<table border=\"1\" class=\"dataframe\">\n",
       "  <thead>\n",
       "    <tr style=\"text-align: right;\">\n",
       "      <th></th>\n",
       "      <th>gene</th>\n",
       "      <th>pdb</th>\n",
       "      <th>chain</th>\n",
       "      <th>uniprot_length</th>\n",
       "      <th>ent_present</th>\n",
       "      <th>pdb_resid</th>\n",
       "      <th>resname</th>\n",
       "      <th>AA</th>\n",
       "      <th>region</th>\n",
       "      <th>mapped_resid</th>\n",
       "      <th>cut_C_Rall</th>\n",
       "      <th>cut_CD_Rall</th>\n",
       "      <th>cut_CG_Rall</th>\n",
       "      <th>num_unique_entanglement</th>\n",
       "    </tr>\n",
       "  </thead>\n",
       "  <tbody>\n",
       "    <tr>\n",
       "      <th>0</th>\n",
       "      <td>A5A616</td>\n",
       "      <td>5OQT</td>\n",
       "      <td>C</td>\n",
       "      <td>31</td>\n",
       "      <td>False</td>\n",
       "      <td>1</td>\n",
       "      <td>MET</td>\n",
       "      <td>M</td>\n",
       "      <td>0</td>\n",
       "      <td>1.0</td>\n",
       "      <td>False</td>\n",
       "      <td>False</td>\n",
       "      <td>False</td>\n",
       "      <td>0</td>\n",
       "    </tr>\n",
       "    <tr>\n",
       "      <th>1</th>\n",
       "      <td>A5A616</td>\n",
       "      <td>5OQT</td>\n",
       "      <td>C</td>\n",
       "      <td>31</td>\n",
       "      <td>False</td>\n",
       "      <td>2</td>\n",
       "      <td>LEU</td>\n",
       "      <td>L</td>\n",
       "      <td>0</td>\n",
       "      <td>2.0</td>\n",
       "      <td>False</td>\n",
       "      <td>False</td>\n",
       "      <td>False</td>\n",
       "      <td>0</td>\n",
       "    </tr>\n",
       "    <tr>\n",
       "      <th>2</th>\n",
       "      <td>A5A616</td>\n",
       "      <td>5OQT</td>\n",
       "      <td>C</td>\n",
       "      <td>31</td>\n",
       "      <td>False</td>\n",
       "      <td>3</td>\n",
       "      <td>GLY</td>\n",
       "      <td>G</td>\n",
       "      <td>0</td>\n",
       "      <td>3.0</td>\n",
       "      <td>False</td>\n",
       "      <td>False</td>\n",
       "      <td>False</td>\n",
       "      <td>0</td>\n",
       "    </tr>\n",
       "    <tr>\n",
       "      <th>3</th>\n",
       "      <td>A5A616</td>\n",
       "      <td>5OQT</td>\n",
       "      <td>C</td>\n",
       "      <td>31</td>\n",
       "      <td>False</td>\n",
       "      <td>4</td>\n",
       "      <td>ASN</td>\n",
       "      <td>N</td>\n",
       "      <td>0</td>\n",
       "      <td>4.0</td>\n",
       "      <td>False</td>\n",
       "      <td>False</td>\n",
       "      <td>False</td>\n",
       "      <td>0</td>\n",
       "    </tr>\n",
       "    <tr>\n",
       "      <th>4</th>\n",
       "      <td>A5A616</td>\n",
       "      <td>5OQT</td>\n",
       "      <td>C</td>\n",
       "      <td>31</td>\n",
       "      <td>False</td>\n",
       "      <td>5</td>\n",
       "      <td>MET</td>\n",
       "      <td>M</td>\n",
       "      <td>0</td>\n",
       "      <td>5.0</td>\n",
       "      <td>False</td>\n",
       "      <td>False</td>\n",
       "      <td>False</td>\n",
       "      <td>0</td>\n",
       "    </tr>\n",
       "    <tr>\n",
       "      <th>5</th>\n",
       "      <td>A5A616</td>\n",
       "      <td>5OQT</td>\n",
       "      <td>C</td>\n",
       "      <td>31</td>\n",
       "      <td>False</td>\n",
       "      <td>6</td>\n",
       "      <td>ASN</td>\n",
       "      <td>N</td>\n",
       "      <td>0</td>\n",
       "      <td>6.0</td>\n",
       "      <td>False</td>\n",
       "      <td>False</td>\n",
       "      <td>False</td>\n",
       "      <td>0</td>\n",
       "    </tr>\n",
       "    <tr>\n",
       "      <th>6</th>\n",
       "      <td>A5A616</td>\n",
       "      <td>5OQT</td>\n",
       "      <td>C</td>\n",
       "      <td>31</td>\n",
       "      <td>False</td>\n",
       "      <td>7</td>\n",
       "      <td>VAL</td>\n",
       "      <td>V</td>\n",
       "      <td>0</td>\n",
       "      <td>7.0</td>\n",
       "      <td>False</td>\n",
       "      <td>False</td>\n",
       "      <td>False</td>\n",
       "      <td>0</td>\n",
       "    </tr>\n",
       "    <tr>\n",
       "      <th>7</th>\n",
       "      <td>A5A616</td>\n",
       "      <td>5OQT</td>\n",
       "      <td>C</td>\n",
       "      <td>31</td>\n",
       "      <td>False</td>\n",
       "      <td>8</td>\n",
       "      <td>PHE</td>\n",
       "      <td>F</td>\n",
       "      <td>0</td>\n",
       "      <td>8.0</td>\n",
       "      <td>False</td>\n",
       "      <td>False</td>\n",
       "      <td>False</td>\n",
       "      <td>0</td>\n",
       "    </tr>\n",
       "    <tr>\n",
       "      <th>8</th>\n",
       "      <td>A5A616</td>\n",
       "      <td>5OQT</td>\n",
       "      <td>C</td>\n",
       "      <td>31</td>\n",
       "      <td>False</td>\n",
       "      <td>9</td>\n",
       "      <td>MET</td>\n",
       "      <td>M</td>\n",
       "      <td>0</td>\n",
       "      <td>9.0</td>\n",
       "      <td>False</td>\n",
       "      <td>False</td>\n",
       "      <td>False</td>\n",
       "      <td>0</td>\n",
       "    </tr>\n",
       "    <tr>\n",
       "      <th>9</th>\n",
       "      <td>A5A616</td>\n",
       "      <td>5OQT</td>\n",
       "      <td>C</td>\n",
       "      <td>31</td>\n",
       "      <td>False</td>\n",
       "      <td>10</td>\n",
       "      <td>ALA</td>\n",
       "      <td>A</td>\n",
       "      <td>0</td>\n",
       "      <td>10.0</td>\n",
       "      <td>False</td>\n",
       "      <td>False</td>\n",
       "      <td>False</td>\n",
       "      <td>0</td>\n",
       "    </tr>\n",
       "  </tbody>\n",
       "</table>\n",
       "</div>"
      ],
      "text/plain": [
       "     gene   pdb chain  uniprot_length  ent_present  pdb_resid resname AA  \\\n",
       "0  A5A616  5OQT     C              31        False          1     MET  M   \n",
       "1  A5A616  5OQT     C              31        False          2     LEU  L   \n",
       "2  A5A616  5OQT     C              31        False          3     GLY  G   \n",
       "3  A5A616  5OQT     C              31        False          4     ASN  N   \n",
       "4  A5A616  5OQT     C              31        False          5     MET  M   \n",
       "5  A5A616  5OQT     C              31        False          6     ASN  N   \n",
       "6  A5A616  5OQT     C              31        False          7     VAL  V   \n",
       "7  A5A616  5OQT     C              31        False          8     PHE  F   \n",
       "8  A5A616  5OQT     C              31        False          9     MET  M   \n",
       "9  A5A616  5OQT     C              31        False         10     ALA  A   \n",
       "\n",
       "   region  mapped_resid  cut_C_Rall  cut_CD_Rall  cut_CG_Rall  \\\n",
       "0       0           1.0       False        False        False   \n",
       "1       0           2.0       False        False        False   \n",
       "2       0           3.0       False        False        False   \n",
       "3       0           4.0       False        False        False   \n",
       "4       0           5.0       False        False        False   \n",
       "5       0           6.0       False        False        False   \n",
       "6       0           7.0       False        False        False   \n",
       "7       0           8.0       False        False        False   \n",
       "8       0           9.0       False        False        False   \n",
       "9       0          10.0       False        False        False   \n",
       "\n",
       "   num_unique_entanglement  \n",
       "0                        0  \n",
       "1                        0  \n",
       "2                        0  \n",
       "3                        0  \n",
       "4                        0  \n",
       "5                        0  \n",
       "6                        0  \n",
       "7                        0  \n",
       "8                        0  \n",
       "9                        0  "
      ]
     },
     "execution_count": 3,
     "metadata": {},
     "output_type": "execute_result"
    }
   ],
   "source": [
    "# first, print a quick summary\n",
    "print (\"Create a quick summary of the DataFrame:\\n\")\n",
    "data3.info()\n",
    "\n",
    "# second, print the first 10 rows of the DataFrame\n",
    "print (\"\\nPrint the first 10 rows of the DataFrame:\\n\")\n",
    "data3.head(10)"
   ]
  },
  {
   "cell_type": "markdown",
   "id": "0e7bb827-aea7-4e62-a067-75fb7202ce50",
   "metadata": {},
   "source": [
    "* Consider the output from these commands - what can you learn about the data set we are using? (Consider, for example, the line in the output of `data3.info()` for `mapped_resid`).\n",
    "\n",
    "* There are many columns in this file, but we only need a few: (1) `region` indicates whether an entanglement is present (`True`) or absent (`False`) at a residue; (2) `cut_C_Rall` indicates whether misfolding is detected at this residue by LiP-MS in the absence of chaperones.\n",
    "\n",
    "* `cut_CD_Rall` & `cut_CG_Rall` indicate whether misfolding is detected at a residue in the presence of the molecular chaperones DnaK/J & GroEL/ES, respectively. We will only consider the chaperone-free case here.\n",
    "\n",
    "* For these data, we need to do two additional processing steps to (1) remove rows of the DataFrame `data3` that are associated with proteins that had either low coverage or low abundance in the LiP-MS experiment and (2) remove rows of `data3` that correspond to amino acids present in the protein crystal structure but not in the UniProt sequence of the protein:"
   ]
  },
  {
   "cell_type": "code",
   "execution_count": 4,
   "id": "b47472fc-e42c-49e6-a335-f3482f75dfc5",
   "metadata": {},
   "outputs": [
    {
     "name": "stdout",
     "output_type": "stream",
     "text": [
      "\n",
      "Create a quick summary of the filtered DataFrame:\n",
      "\n",
      "<class 'pandas.core.frame.DataFrame'>\n",
      "Index: 98129 entries, 120 to 384170\n",
      "Data columns (total 14 columns):\n",
      " #   Column                   Non-Null Count  Dtype  \n",
      "---  ------                   --------------  -----  \n",
      " 0   gene                     98129 non-null  object \n",
      " 1   pdb                      98129 non-null  object \n",
      " 2   chain                    98129 non-null  object \n",
      " 3   uniprot_length           98129 non-null  int64  \n",
      " 4   ent_present              98129 non-null  bool   \n",
      " 5   pdb_resid                98129 non-null  int64  \n",
      " 6   resname                  98129 non-null  object \n",
      " 7   AA                       98129 non-null  object \n",
      " 8   region                   98129 non-null  int64  \n",
      " 9   mapped_resid             98129 non-null  float64\n",
      " 10  cut_C_Rall               98129 non-null  bool   \n",
      " 11  cut_CD_Rall              98129 non-null  bool   \n",
      " 12  cut_CG_Rall              98129 non-null  bool   \n",
      " 13  num_unique_entanglement  98129 non-null  int64  \n",
      "dtypes: bool(4), float64(1), int64(4), object(5)\n",
      "memory usage: 8.6+ MB\n"
     ]
    }
   ],
   "source": [
    "# filter to remove proteins that have low abundance or coverage in LiP-MS experiments\n",
    "\n",
    "# load a data set that contains a list of the high-quality proteins from LiP-MS\n",
    "data3_mask = pd.read_csv(data_path+\"Ecoli_C_high-abundance_high-coverage.txt\")\n",
    "\n",
    "# keep only entries that correspond to high-quality proteins from LiP-MS\n",
    "data3_filtered = data3[data3['gene'].isin(data3_mask['gene'])]\n",
    "\n",
    "# remove rows in which mapped_resid is not an integer value\n",
    "data3_filtered = data3_filtered.dropna(subset = ['mapped_resid'])\n",
    "\n",
    "# print a quick summary of the new data3_filtered DataFrame\n",
    "print (\"\\nCreate a quick summary of the filtered DataFrame:\\n\")\n",
    "data3_filtered.info()"
   ]
  },
  {
   "cell_type": "markdown",
   "id": "244e5844-9c29-454a-92a2-92cae13e888d",
   "metadata": {},
   "source": [
    "* Comparing the info printed by `.info()` for `data3` and `data3_filtered`, we can see that the number of rows is reduced from 384,582 to 98,129\n",
    "* There are now no missing values in any row"
   ]
  },
  {
   "cell_type": "markdown",
   "id": "fa7978e2-92ba-4021-8a5a-2c731b5c0bfa",
   "metadata": {},
   "source": [
    "### Step 3 - Run the analysis"
   ]
  },
  {
   "cell_type": "markdown",
   "id": "ebdaf233-ad8d-4ccf-ba51-1eae6eb095bc",
   "metadata": {},
   "source": [
    "* Before running the full analysis below, compare your prediction for the contingency table's format to the table generated by the next cell. Were you correct?"
   ]
  },
  {
   "cell_type": "code",
   "execution_count": 5,
   "id": "1de7ae5b-ac1f-495f-a220-374497d0cb97",
   "metadata": {},
   "outputs": [
    {
     "name": "stdout",
     "output_type": "stream",
     "text": [
      "This is our (blank) contingency table:\n",
      "\n"
     ]
    },
    {
     "data": {
      "text/plain": [
       "<Figure size 640x480 with 0 Axes>"
      ]
     },
     "metadata": {},
     "output_type": "display_data"
    },
    {
     "data": {
      "image/png": "[encoded data removed]",
      "text/plain": [
       "<Figure size 500x200 with 1 Axes>"
      ]
     },
     "metadata": {},
     "output_type": "display_data"
    }
   ],
   "source": [
    "# print a blank contingency table in the format needed for this hypothesis\n",
    "contingency_table = pd.DataFrame({\"Residue Misfolded\"    : [\"a\", \"c\"], \n",
    "                                  \"Residue Not Misfolded\": [\"b\", \"d\"]},\n",
    "                                 index = [\"Residue Entangled\", \"Residue Not Entangled\"])\n",
    "\n",
    "# print the output\n",
    "print (\"This is our (blank) contingency table:\\n\")\n",
    "\n",
    "# create a table from our contingency_table using matplotlib\n",
    "plt.clf()\n",
    "fig, ax    = plt.subplots(figsize = (5, 2))\n",
    "ax.axis(\"tight\")\n",
    "ax.axis(\"off\")\n",
    "cell_text  = contingency_table.reset_index().values.tolist()\n",
    "col_labels = [\"\"] + contingency_table.columns.tolist()\n",
    "table      = ax.table(cellText=cell_text, colLabels=col_labels, loc=\"center\", cellLoc=\"center\")\n",
    "table.auto_set_font_size(False)\n",
    "table.set_fontsize(14)  \n",
    "table.scale(2, 2)  \n",
    "plt.show()"
   ]
  },
  {
   "cell_type": "markdown",
   "id": "c8fcf64b-d23c-490f-94bd-98d7debfc309",
   "metadata": {},
   "source": [
    "* This table is identical in format to the one employed in **Application 1.1** except \"protein\" is replaced by \"residue\"\n",
    "* Run the cell below to complete the analysis"
   ]
  },
  {
   "cell_type": "code",
   "execution_count": 6,
   "id": "992c05fe-4172-428d-88c2-e07e2f437f3a",
   "metadata": {},
   "outputs": [
    {
     "name": "stdout",
     "output_type": "stream",
     "text": [
      "This is our contingency table:\n",
      "\n"
     ]
    },
    {
     "data": {
      "text/plain": [
       "<Figure size 640x480 with 0 Axes>"
      ]
     },
     "metadata": {},
     "output_type": "display_data"
    },
    {
     "data": {
      "image/png": "[encoded data removed]",
      "text/plain": [
       "<Figure size 500x200 with 1 Axes>"
      ]
     },
     "metadata": {},
     "output_type": "display_data"
    },
    {
     "name": "stdout",
     "output_type": "stream",
     "text": [
      "The odds ratio is: 1.41\n",
      "The p-value is   : 1.85e-13\n"
     ]
    }
   ],
   "source": [
    "# compute the values of {a, b, c, d} and construct the contingency table\n",
    "a = len(data3_filtered[(data3_filtered[\"region\"] == True ) & (data3_filtered[\"cut_C_Rall\"] == True )])\n",
    "b = len(data3_filtered[(data3_filtered[\"region\"] == True ) & (data3_filtered[\"cut_C_Rall\"] == False)])\n",
    "c = len(data3_filtered[(data3_filtered[\"region\"] == False) & (data3_filtered[\"cut_C_Rall\"] == True )])\n",
    "d = len(data3_filtered[(data3_filtered[\"region\"] == False) & (data3_filtered[\"cut_C_Rall\"] == False)])\n",
    "\n",
    "# also, put values into a new format to enable a nice print statement\n",
    "contingency_table = pd.DataFrame({\"Residue Misfolded\"    : [a, c], \n",
    "                                  \"Residue Not Misfolded\": [b, d]},\n",
    "                                 index = [\"Residue Entangled\", \"Residue Not Entangled\"])\n",
    "\n",
    "# print the contingency table\n",
    "print (\"This is our contingency table:\\n\")\n",
    "\n",
    "# create a table from our contingency_table using matplotlib\n",
    "plt.clf()\n",
    "fig, ax    = plt.subplots(figsize = (5, 2))\n",
    "ax.axis(\"tight\")\n",
    "ax.axis(\"off\")\n",
    "cell_text  = contingency_table.reset_index().values.tolist()\n",
    "col_labels = [\"\"] + contingency_table.columns.tolist()\n",
    "table      = ax.table(cellText=cell_text, colLabels=col_labels, loc=\"center\", cellLoc=\"center\")\n",
    "table.auto_set_font_size(False)\n",
    "table.set_fontsize(14)  \n",
    "table.scale(2, 2)  \n",
    "plt.show()\n",
    "\n",
    "# use the fisher_exact function from scipy.stats to compute the odds ratio and p-value\n",
    "odds_ratio, fisher_p_value = fisher_exact(contingency_table, alternative = 'two-sided')\n",
    "\n",
    "print (\"The odds ratio is:\", '%.2f' %odds_ratio)\n",
    "print (\"The p-value is   :\", '%.2e' %fisher_p_value)"
   ]
  },
  {
   "cell_type": "markdown",
   "id": "b09111f5-9b59-4595-b93c-268e2962cd0c",
   "metadata": {},
   "source": [
    "### Step 4 - Interpret the results\n",
    "\n",
    "* Think about how you can state this result in simple language and then try to describe it to someone sitting near you\n",
    "* Your explanation should include: (1) A conclusion about the association (*i.e.*, is there positive, negative, or no association) & (2) A statement about the significance of the result based on the computed *p*-value"
   ]
  }
 ],
 "metadata": {
  "kernelspec": {
   "display_name": "Python 3 (ipykernel)",
   "language": "python",
   "name": "python3"
  },
  "language_info": {
   "codemirror_mode": {
    "name": "ipython",
    "version": 3
   },
   "file_extension": ".py",
   "mimetype": "text/x-python",
   "name": "python",
   "nbconvert_exporter": "python",
   "pygments_lexer": "ipython3",
   "version": "3.11.9"
  }
 },
 "nbformat": 4,
 "nbformat_minor": 5
}

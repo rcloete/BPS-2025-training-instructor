{
 "cells": [
  {
   "cell_type": "markdown",
   "id": "44a106b3-1a57-4898-a180-bf4d5dfda3ec",
   "metadata": {},
   "source": [
    "# Section 4 - Avoiding data overinterpretation"
   ]
  },
  {
   "cell_type": "markdown",
   "id": "ba874aae-a1da-464d-b6d5-bbe746070f51",
   "metadata": {},
   "source": [
    "* One common source of data overinterpretation is a failure to correct for multiple hypothesis testing\n",
    "* When we use the same set of data to test a set of hypotheses we need to correct for **false discovery rate**\n",
    "* **False discovery rate** (FDR) is a statistical measure used to estimate the proportion of false positives within a set of hypothesis tests\n",
    "* When performing many hypothesis tests on the same data (*e.g.*, when creating many different contingency tables from the same set of data and running Fisher's Exact Test on each of them) it is best practice to correct *p*-values for FDR\n",
    "\n",
    "## Example 4.1\n",
    "**Application 4.1**: We hypothesize that entangled proteins are not randomly distributed within biological pathways in humans\n",
    "\n",
    "* Many biological pathways exist in humans (**Figure 4.1**), meaning that testing the hypothesis in **Application 4.1** actually requires many different hypothesis tests\n",
    "\n",
    "![](../images/reactome-pathway-subset.png)\n",
    "\n",
    "**Figure 4.1** *A subset of the biological pathways identified for humans in the Reactome database. Nodes represent individual processes/reactions, e.g. \"WNT5A-dependent internalization of FZD4\", and edges represent interactions between processes. Image from https://reactome.org/PathwayBrowser/*\n",
    "\n",
    "* For each pathway in humans, we need to construct a contingency table and compute the odds ratio as well as the *p*-value\n",
    "* For the sake of simplicity, we will omit the initial calculation of {a, b, c, d}, odds ratios, and *p*-values to focus on correcting the *p*-values for **FDR**"
   ]
  },
  {
   "cell_type": "markdown",
   "id": "9defd984-e958-4d56-8778-815f500332c3",
   "metadata": {},
   "source": [
    "### Step 0 - Load libraries"
   ]
  },
  {
   "cell_type": "code",
   "execution_count": 1,
   "id": "a8404d96-0c79-41ee-9532-0a2338511b29",
   "metadata": {},
   "outputs": [],
   "source": [
    "import pandas as pd\n",
    "from statsmodels.stats.multitest import multipletests\n",
    "import matplotlib.pyplot as plt"
   ]
  },
  {
   "cell_type": "markdown",
   "id": "53179189-9d64-45ab-8788-aab9edb817bf",
   "metadata": {},
   "source": [
    "### Step 1 - Load the data"
   ]
  },
  {
   "cell_type": "code",
   "execution_count": 2,
   "id": "401c00f2-3d5a-414f-8366-f3acd64c9d9d",
   "metadata": {},
   "outputs": [],
   "source": [
    "# list of columns to use from the dataset\n",
    "column_list = [\"unique_pathways\", \"a_in_pathway_entangled\",\t\"b_out_pathway_entangled\",\n",
    "               \"c_in_pathway_not_entangled\", \"d_out_pathway_not_entangled\",\t\"odds_ratios\", \"two_sided_p_values\"]\n",
    "\n",
    "# load the specified columns; \"data9\" is a pandas DataFrame object\n",
    "data_path = \"/home/jovyan/data-store/data/iplant/home/shared/NCEMS/BPS-training-2025/\"\n",
    "data9     = pd.read_csv(data_path + \"pathways-and-entangled-proteins.csv\", usecols = column_list)"
   ]
  },
  {
   "cell_type": "markdown",
   "id": "9f8d8f05-bd47-414c-9d24-e6ac2dd95017",
   "metadata": {},
   "source": [
    "### Step 2 - Explore the data"
   ]
  },
  {
   "cell_type": "code",
   "execution_count": 3,
   "id": "3d11bc84-e16e-45f7-850f-89a5f588beda",
   "metadata": {},
   "outputs": [
    {
     "name": "stdout",
     "output_type": "stream",
     "text": [
      "<class 'pandas.core.frame.DataFrame'>\n",
      "RangeIndex: 2150 entries, 0 to 2149\n",
      "Data columns (total 7 columns):\n",
      " #   Column                       Non-Null Count  Dtype  \n",
      "---  ------                       --------------  -----  \n",
      " 0   unique_pathways              2150 non-null   object \n",
      " 1   a_in_pathway_entangled       2150 non-null   int64  \n",
      " 2   b_out_pathway_entangled      2150 non-null   int64  \n",
      " 3   c_in_pathway_not_entangled   2150 non-null   int64  \n",
      " 4   d_out_pathway_not_entangled  2150 non-null   int64  \n",
      " 5   odds_ratios                  2150 non-null   float64\n",
      " 6   two_sided_p_values           2150 non-null   float64\n",
      "dtypes: float64(2), int64(4), object(1)\n",
      "memory usage: 117.7+ KB\n"
     ]
    },
    {
     "data": {
      "text/html": [
       "<div>\n",
       "<style scoped>\n",
       "    .dataframe tbody tr th:only-of-type {\n",
       "        vertical-align: middle;\n",
       "    }\n",
       "\n",
       "    .dataframe tbody tr th {\n",
       "        vertical-align: top;\n",
       "    }\n",
       "\n",
       "    .dataframe thead th {\n",
       "        text-align: right;\n",
       "    }\n",
       "</style>\n",
       "<table border=\"1\" class=\"dataframe\">\n",
       "  <thead>\n",
       "    <tr style=\"text-align: right;\">\n",
       "      <th></th>\n",
       "      <th>unique_pathways</th>\n",
       "      <th>a_in_pathway_entangled</th>\n",
       "      <th>b_out_pathway_entangled</th>\n",
       "      <th>c_in_pathway_not_entangled</th>\n",
       "      <th>d_out_pathway_not_entangled</th>\n",
       "      <th>odds_ratios</th>\n",
       "      <th>two_sided_p_values</th>\n",
       "    </tr>\n",
       "  </thead>\n",
       "  <tbody>\n",
       "    <tr>\n",
       "      <th>0</th>\n",
       "      <td>R-HSA-166663</td>\n",
       "      <td>38</td>\n",
       "      <td>11517</td>\n",
       "      <td>41</td>\n",
       "      <td>8908</td>\n",
       "      <td>0.716891</td>\n",
       "      <td>0.141226</td>\n",
       "    </tr>\n",
       "    <tr>\n",
       "      <th>1</th>\n",
       "      <td>R-HSA-173623</td>\n",
       "      <td>33</td>\n",
       "      <td>11522</td>\n",
       "      <td>37</td>\n",
       "      <td>8912</td>\n",
       "      <td>0.689880</td>\n",
       "      <td>0.146931</td>\n",
       "    </tr>\n",
       "    <tr>\n",
       "      <th>2</th>\n",
       "      <td>R-HSA-198933</td>\n",
       "      <td>100</td>\n",
       "      <td>11455</td>\n",
       "      <td>97</td>\n",
       "      <td>8852</td>\n",
       "      <td>0.796677</td>\n",
       "      <td>0.112900</td>\n",
       "    </tr>\n",
       "    <tr>\n",
       "      <th>3</th>\n",
       "      <td>R-HSA-202733</td>\n",
       "      <td>66</td>\n",
       "      <td>11489</td>\n",
       "      <td>85</td>\n",
       "      <td>8864</td>\n",
       "      <td>0.599089</td>\n",
       "      <td>0.002205</td>\n",
       "    </tr>\n",
       "    <tr>\n",
       "      <th>4</th>\n",
       "      <td>R-HSA-2029481</td>\n",
       "      <td>34</td>\n",
       "      <td>11521</td>\n",
       "      <td>40</td>\n",
       "      <td>8909</td>\n",
       "      <td>0.657315</td>\n",
       "      <td>0.078217</td>\n",
       "    </tr>\n",
       "    <tr>\n",
       "      <th>5</th>\n",
       "      <td>R-HSA-2029482</td>\n",
       "      <td>77</td>\n",
       "      <td>11478</td>\n",
       "      <td>46</td>\n",
       "      <td>8903</td>\n",
       "      <td>1.298366</td>\n",
       "      <td>0.171969</td>\n",
       "    </tr>\n",
       "    <tr>\n",
       "      <th>6</th>\n",
       "      <td>R-HSA-2029485</td>\n",
       "      <td>45</td>\n",
       "      <td>11510</td>\n",
       "      <td>43</td>\n",
       "      <td>8906</td>\n",
       "      <td>0.809763</td>\n",
       "      <td>0.333862</td>\n",
       "    </tr>\n",
       "    <tr>\n",
       "      <th>7</th>\n",
       "      <td>R-HSA-2168880</td>\n",
       "      <td>35</td>\n",
       "      <td>11520</td>\n",
       "      <td>39</td>\n",
       "      <td>8910</td>\n",
       "      <td>0.694132</td>\n",
       "      <td>0.127166</td>\n",
       "    </tr>\n",
       "    <tr>\n",
       "      <th>8</th>\n",
       "      <td>R-HSA-2454202</td>\n",
       "      <td>29</td>\n",
       "      <td>11526</td>\n",
       "      <td>37</td>\n",
       "      <td>8912</td>\n",
       "      <td>0.606054</td>\n",
       "      <td>0.046602</td>\n",
       "    </tr>\n",
       "    <tr>\n",
       "      <th>9</th>\n",
       "      <td>R-HSA-2730905</td>\n",
       "      <td>37</td>\n",
       "      <td>11518</td>\n",
       "      <td>38</td>\n",
       "      <td>8911</td>\n",
       "      <td>0.753317</td>\n",
       "      <td>0.243788</td>\n",
       "    </tr>\n",
       "  </tbody>\n",
       "</table>\n",
       "</div>"
      ],
      "text/plain": [
       "  unique_pathways  a_in_pathway_entangled  b_out_pathway_entangled  \\\n",
       "0    R-HSA-166663                      38                    11517   \n",
       "1    R-HSA-173623                      33                    11522   \n",
       "2    R-HSA-198933                     100                    11455   \n",
       "3    R-HSA-202733                      66                    11489   \n",
       "4   R-HSA-2029481                      34                    11521   \n",
       "5   R-HSA-2029482                      77                    11478   \n",
       "6   R-HSA-2029485                      45                    11510   \n",
       "7   R-HSA-2168880                      35                    11520   \n",
       "8   R-HSA-2454202                      29                    11526   \n",
       "9   R-HSA-2730905                      37                    11518   \n",
       "\n",
       "   c_in_pathway_not_entangled  d_out_pathway_not_entangled  odds_ratios  \\\n",
       "0                          41                         8908     0.716891   \n",
       "1                          37                         8912     0.689880   \n",
       "2                          97                         8852     0.796677   \n",
       "3                          85                         8864     0.599089   \n",
       "4                          40                         8909     0.657315   \n",
       "5                          46                         8903     1.298366   \n",
       "6                          43                         8906     0.809763   \n",
       "7                          39                         8910     0.694132   \n",
       "8                          37                         8912     0.606054   \n",
       "9                          38                         8911     0.753317   \n",
       "\n",
       "   two_sided_p_values  \n",
       "0            0.141226  \n",
       "1            0.146931  \n",
       "2            0.112900  \n",
       "3            0.002205  \n",
       "4            0.078217  \n",
       "5            0.171969  \n",
       "6            0.333862  \n",
       "7            0.127166  \n",
       "8            0.046602  \n",
       "9            0.243788  "
      ]
     },
     "execution_count": 3,
     "metadata": {},
     "output_type": "execute_result"
    }
   ],
   "source": [
    "# print a quick summary of \"data9\"\n",
    "data9.info()\n",
    "\n",
    "# print the first 10 rows of \"data9\"\n",
    "data9.head(10)"
   ]
  },
  {
   "cell_type": "markdown",
   "id": "a794dcf6-9931-420e-8501-3bf9a4643127",
   "metadata": {},
   "source": [
    "* Each row of this DataFrame corresponds to a unique Reactome pathway\n",
    "* The columns correspond to:\n",
    "    * `unique_pathways`: The pathway identifier\n",
    "    * `a_in_pathway_entangled`: Number of proteins in the pathway that are entangled (a in contingency table)\n",
    "    * `b_out_pathway_entangled`: Number of proteins *not* in the pathway that are entangled (b in contingency table)\n",
    "    * `c_in_pathway_not_entangled`: Number of proteins in the pathway that are *not* entangled (c in contingency table)\n",
    "    * `d_out_pathway_not_entangled`: Number of proteins *not* in the pathway that are *not* entangled (d in contingency table)\n",
    "    * `odds_ratios`: The odds ratio calculated from a 2x2 contingency table (see below)\n",
    "    * `two_sided_p_values`: Initial uncorrected *p*-value from Fisher's Exact Test\n",
    "* The contingency tables used in this analysis had the following form:"
   ]
  },
  {
   "cell_type": "code",
   "execution_count": 4,
   "id": "7370f9d3-e823-4915-aa8c-c408342cae98",
   "metadata": {},
   "outputs": [
    {
     "name": "stdout",
     "output_type": "stream",
     "text": [
      "This is our contingency table:\n",
      "\n"
     ]
    },
    {
     "data": {
      "text/plain": [
       "<Figure size 640x480 with 0 Axes>"
      ]
     },
     "metadata": {},
     "output_type": "display_data"
    },
    {
     "data": {
      "image/png": "[encoded data removed]",
      "text/plain": [
       "<Figure size 500x200 with 1 Axes>"
      ]
     },
     "metadata": {},
     "output_type": "display_data"
    }
   ],
   "source": [
    "# put values into a new format to enable a nice print statement & analysis\n",
    "contingency_table = pd.DataFrame({\"Protein In Pathway\"    : ['a', 'c'], \n",
    "                                  \"Protein Not In Pathway\": ['b', 'd']},\n",
    "                                 index = [\"Protein Entangled\", \"Protein Not Entangled\"])\n",
    "\n",
    "# print the output\n",
    "print (\"This is our contingency table:\\n\")\n",
    "\n",
    "# create a table from our contingency_table using matplotlib\n",
    "plt.clf()\n",
    "fig, ax    = plt.subplots(figsize = (5, 2))\n",
    "ax.axis(\"tight\")\n",
    "ax.axis(\"off\")\n",
    "cell_text  = contingency_table.reset_index().values.tolist()\n",
    "col_labels = [\"\"] + contingency_table.columns.tolist()\n",
    "table      = ax.table(cellText=cell_text, colLabels=col_labels, loc=\"center\", cellLoc=\"center\")\n",
    "table.auto_set_font_size(False)\n",
    "table.set_fontsize(14)  \n",
    "table.scale(2, 2)  \n",
    "plt.show()"
   ]
  },
  {
   "cell_type": "markdown",
   "id": "3e3533cc-08d2-44b1-84b5-cc45d63e1551",
   "metadata": {},
   "source": [
    "### Step 3 - Run the analysis\n",
    "* With the data loaded, we are ready to correct our *p*-values and interpret the results"
   ]
  },
  {
   "cell_type": "code",
   "execution_count": 5,
   "id": "261e289d-7836-449d-9a00-525a3e65b1b7",
   "metadata": {},
   "outputs": [
    {
     "name": "stdout",
     "output_type": "stream",
     "text": [
      "Using the uncorrected p-values, we would conclude 539 pathways have a non-random number of entangled proteins\n",
      "\n",
      "Using the corrected p-values, we conclude 318 pathways have a non-random number of entangled proteins\n",
      "\n"
     ]
    },
    {
     "data": {
      "image/png": "[encoded data removed]",
      "text/plain": [
       "<Figure size 640x480 with 1 Axes>"
      ]
     },
     "metadata": {},
     "output_type": "display_data"
    },
    {
     "data": {
      "image/png": "[encoded data removed]",
      "text/plain": [
       "<Figure size 640x480 with 1 Axes>"
      ]
     },
     "metadata": {},
     "output_type": "display_data"
    }
   ],
   "source": [
    "# define the significance level for our tests\n",
    "alpha = 0.05\n",
    "\n",
    "# apply the Benjamini-Hochberg procedure for FDR correction\n",
    "_, pvals_corrected, _, _ = multipletests(data9['two_sided_p_values'], alpha = alpha, method = 'fdr_bh')\n",
    "\n",
    "# add corrected p-values as a new column\n",
    "data9['two_sided_p_values-adjusted'] = pvals_corrected\n",
    "\n",
    "# compute the proportions of uncorrected & corrected p-values < alpha\n",
    "N_uncorr_acc = ((data9[\"two_sided_p_values\"]          < alpha) & (data9[\"odds_ratios\"] != 1.0)).sum()\n",
    "N_corr_acc   = ((data9[\"two_sided_p_values-adjusted\"] < alpha) & (data9[\"odds_ratios\"] != 1.0)).sum()\n",
    "\n",
    "print (\"Using the uncorrected p-values, we would conclude\", N_uncorr_acc, \"pathways have a non-random number of entangled proteins\\n\")\n",
    "print (\"Using the corrected p-values, we conclude\", N_corr_acc, \"pathways have a non-random number of entangled proteins\\n\")\n",
    "\n",
    "# make a plot of the distributions of p-values before & after the FDR correction\n",
    "plt.clf()\n",
    "plt.title(\"Histogram\")\n",
    "plt.hist(data9[\"two_sided_p_values\"], color = \"#004488\", alpha = 0.7, label = \"Uncorrected\", histtype = \"step\", bins = \"fd\", linewidth=2.5) # here, alpha != significance level\n",
    "plt.hist(data9[\"two_sided_p_values-adjusted\"], color = \"#BB5566\", alpha = 0.7, label = \"Corrected\", histtype = \"step\", bins = \"fd\", linewidth=2.5)\n",
    "plt.xlabel(\"p-value\")\n",
    "plt.ylabel(\"Counts\")\n",
    "plt.legend(loc = \"best\")\n",
    "plt.tight_layout()\n",
    "plt.show()\n",
    "\n",
    "# it can be easier to see differences when considering the cumulative distribution function\n",
    "plt.clf()\n",
    "plt.title(\"Cumulative distribution function\")\n",
    "plt.hist(data9[\"two_sided_p_values\"], color = \"#004488\", alpha = 0.7, label = \"Uncorrected\", histtype = \"step\", bins = \"fd\", density = True, cumulative = True, linewidth=2.5) # here, alpha != significance level\n",
    "plt.hist(data9[\"two_sided_p_values-adjusted\"], color = \"#BB5566\", alpha = 0.7, label = \"Corrected\", histtype = \"step\", bins = \"fd\", density = True, cumulative = True, linewidth=2.5)\n",
    "plt.xlabel(\"p-value\")\n",
    "plt.ylabel(\"Cumulative probability\")\n",
    "plt.legend(loc = \"best\")\n",
    "plt.tight_layout()\n",
    "plt.show()"
   ]
  },
  {
   "cell_type": "markdown",
   "id": "d877b1a0-dce3-468e-af94-ff619ffe2407",
   "metadata": {},
   "source": [
    "### Step 4 - Interpret the results\n",
    "\n",
    "* We conclude that 318 pathways contain a non-random number of entangled proteins\n",
    "    * We have eliminated 539 - 318 = 221 false positives\n",
    "* The Benjamini-Hochberg procedure does not eliminate the presence of false positives; with our threshold of 0.05, we have reduced the false discovery rate to 5% or less\n",
    "* Associations that are significant before the Benjamini-Hochberg correction and not significant afterwards likely arise from random chance"
   ]
  }
 ],
 "metadata": {
  "kernelspec": {
   "display_name": "Python 3 (ipykernel)",
   "language": "python",
   "name": "python3"
  },
  "language_info": {
   "codemirror_mode": {
    "name": "ipython",
    "version": 3
   },
   "file_extension": ".py",
   "mimetype": "text/x-python",
   "name": "python",
   "nbconvert_exporter": "python",
   "pygments_lexer": "ipython3",
   "version": "3.11.9"
  }
 },
 "nbformat": 4,
 "nbformat_minor": 5
}

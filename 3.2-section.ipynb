{
 "cells": [
  {
   "cell_type": "markdown",
   "id": "a86c358e-c531-4516-ab3b-c96e00881bfd",
   "metadata": {},
   "source": [
    "# Section 3 - Identifying features that may drive outcomes\n",
    "\n",
    "## Example 3.2\n",
    "**Application 3.2**: What features might drive differential translation rates as measured by ribosome profiling when specific amino acids are in the A- and P-sites of the ribosome?\n",
    "\n",
    "* Translation is a key biological process during which ribosomes synthesize proteins based on messenger RNA (mRNA) templates\n",
    "* During translation elongation, amino acids are added one at a time to the nascent protein (**Figure 3.2.1**)\n",
    "* The speed at which amino acids are added can be an important factor in determining if a protein will fold and function or misfold and malfunction\n",
    "\n",
    "![](../images/Ribosome_mRNA_translation_en.svg.png)\n",
    "\n",
    "**Figure 3.2.1** *The ribosome has three sites that accommodate tRNA: the A-, P- and E-sites. The ribosome ratchets along the mRNA, presenting different mRNA codons for decoding by aminoacyl-tRNA (aa-tRNA) at the A-site and catalyzing peptide bond formation between the nascent protein bound to the P-site tRNA and the amino acid bound to the A-site aa-tRNA. The E-site binds the deacylated tRNA before it exits the ribosome. Reproduced from https://en.wikipedia.org/wiki/Translation_(biology)*\n",
    "  \n",
    "* Many different factors are thought to influence the speed of translation\n",
    "* In this application, we will explore using LASSO to determine which physicochemical properties are most useful in predicting how different combinations of amino acids and tRNA in the A- and P-sites of the ribosome influence translation speed\n"
   ]
  },
  {
   "cell_type": "markdown",
   "id": "68d7dc7c-0843-430e-94df-2f8dff639cd5",
   "metadata": {},
   "source": [
    "### Step 0 - Load libraries"
   ]
  },
  {
   "cell_type": "code",
   "execution_count": null,
   "id": "c3ec63ba-a080-4e2d-8cde-a778bf8b8837",
   "metadata": {},
   "outputs": [],
   "source": [
    "import pandas as pd\n",
    "from sklearn.linear_model import LogisticRegression\n",
    "from sklearn.model_selection import StratifiedKFold, train_test_split, cross_validate\n",
    "from sklearn.metrics import roc_auc_score, balanced_accuracy_score\n",
    "import numpy as np\n",
    "from datetime import datetime\n",
    "import matplotlib.pyplot as plt"
   ]
  },
  {
   "cell_type": "markdown",
   "id": "df401423-986d-488b-8dab-2f97753cf7de",
   "metadata": {},
   "source": [
    "### Step 1 - Load the data & explore\n",
    "* In this instance, the features and outcome are in two separate files"
   ]
  },
  {
   "cell_type": "code",
   "execution_count": null,
   "id": "66012f99-220f-47bf-b80d-aad8904506fb",
   "metadata": {},
   "outputs": [],
   "source": [
    "# data7_features & data7_outcomes are both DataFrame objects\n",
    "data_path      = \"/home/jovyan/data-store/data/iplant/home/shared/NCEMS/BPS-training-2025/\"\n",
    "data7_features = pd.read_csv(data_path+\"ta_transformed_features.csv\")\n",
    "data7_outcomes = pd.read_csv(data_path+\"ta_transformed-data_targets.csv\")\n",
    "\n",
    "# both of these DataFrames have an unneeded first column, so we will remove it\n",
    "data7_features = data7_features.iloc[:, 1:]\n",
    "data7_outcomes = data7_outcomes.iloc[:, 1:]\n",
    "\n",
    "print (\"Summary of the features:\\n\")\n",
    "display(data7_features.head(10))\n",
    "display(data7_features.info())\n",
    "\n",
    "print (\"\\nSummary of the outcomes:\\n\")\n",
    "display(data7_outcomes.head(10))\n",
    "display(data7_outcomes.info())"
   ]
  },
  {
   "cell_type": "markdown",
   "id": "05a49b64-3548-4621-b3e0-93b655213be9",
   "metadata": {},
   "source": [
    "* What we are trying to predict is `Speed`, which is `0` if translation is faster for the given pair of amino acids in the A- and P-sites than average and `1` if it is slower than average\n",
    "* These values were derived from ribosome profiling, a next-generation sequencing technique that specifically sequences fragments of mRNAs that are covered by the ribosome\n",
    "* We will attempt to model `Speed` using the set of 629 features in `data7_features`\n",
    "* Let's make sure that the features have each been scaled correctly"
   ]
  },
  {
   "cell_type": "code",
   "execution_count": null,
   "id": "2d034a25-d567-4b1e-8b8e-fcc01b3f91f7",
   "metadata": {},
   "outputs": [],
   "source": [
    "print (\"\\nInformation about mean and standard deviation of parameters:\")\n",
    "data7_features.describe()"
   ]
  },
  {
   "cell_type": "markdown",
   "id": "6f57b064-7a82-4ed6-8257-dbc82a336db4",
   "metadata": {},
   "source": [
    "* We can see that the features have already been scaled - they have a mean of zero and standard deviation of one\n",
    "* Finally, we need to check the balance of the outcome classes"
   ]
  },
  {
   "cell_type": "code",
   "execution_count": null,
   "id": "cc9997b9-2b25-4851-938f-8880d07ac27a",
   "metadata": {},
   "outputs": [],
   "source": [
    "# calculate counts per outcome class\n",
    "class_counts = data7_outcomes[\"Speed\"].value_counts()\n",
    "print (class_counts)"
   ]
  },
  {
   "cell_type": "markdown",
   "id": "869068de-068b-46a7-8b83-1a0151687edc",
   "metadata": {},
   "source": [
    "* We can see that the `0` class accounts for 54% of that data and the `1` class accounts for 46% of the data\n",
    "* This is reasonably well balanced, but we should remain aware of the class imbalance all the same"
   ]
  },
  {
   "cell_type": "markdown",
   "id": "0bfc9a32-0631-4719-b103-23470068f709",
   "metadata": {},
   "source": [
    "### Step 2 - Prepare data for model building\n",
    "\n",
    "* As in **Example 3.1**, we will use k-fold cross-validation with a grid search over *λ*"
   ]
  },
  {
   "cell_type": "code",
   "execution_count": null,
   "id": "836b31fa-db32-4694-aa31-5b205774699f",
   "metadata": {},
   "outputs": [],
   "source": [
    "# set random seed to achieve reproducible results\n",
    "random_seed = 1\n",
    "\n",
    "# number of folds for cross-validation\n",
    "Nfolds      = 5\n",
    "\n",
    "# define feature and outcome data sets; note that we need to drop some non-numerical columns from the feature space\n",
    "X           = data7_features.drop([\"asitetrna\", \"psitetrna\", \"asiteaa\", \"psiteaa\"], axis=1)\n",
    "y           = data7_outcomes[\"Speed\"]\n",
    "\n",
    "# reserve 20% of data for final testing after hyperparameter tuning\n",
    "X_train, X_holdout, y_train, y_holdout = train_test_split(X, y, test_size=0.2, random_state=random_seed, stratify=y)\n",
    "\n",
    "# set up k-fold cross-validation with outcome stratification\n",
    "kf          = StratifiedKFold(n_splits=Nfolds, shuffle=True, random_state=random_seed)\n",
    "\n",
    "# define a range of lambda values to be used in our grid search\n",
    "lambda_vals = np.logspace(-1, 4, 6)"
   ]
  },
  {
   "cell_type": "markdown",
   "id": "01b3a06e-876b-4445-9d71-b02908af108b",
   "metadata": {},
   "source": [
    "### Step 3 - Optimize λ\n",
    "* We are now ready to run cross-validation for each value of *λ* and decide which value we want to use for our final model"
   ]
  },
  {
   "cell_type": "code",
   "execution_count": null,
   "id": "c4ccd419-d04c-4f2e-a9f2-16c7e9c1ec8a",
   "metadata": {},
   "outputs": [],
   "source": [
    "# record the start time\n",
    "startTime    = datetime.now()\n",
    "\n",
    "# maximum number of iterations to be run\n",
    "max_iter     = 20000\n",
    "\n",
    "# setup dictionary to store results for each value of lambda\n",
    "results_dict = {}\n",
    "\n",
    "# loop over lambda values\n",
    "for lambda_val in lambda_vals:\n",
    "\n",
    "    # setup logistic regression model\n",
    "    model                    = LogisticRegression(penalty=\"l1\", solver=\"saga\", \n",
    "                                                  max_iter=max_iter, C=1/lambda_val)\n",
    "\n",
    "    # run cross-validation for current lambda_val\n",
    "    cv_results               = cross_validate(model, X_train, y_train, cv=kf, return_estimator=True, \n",
    "                                              scoring=['balanced_accuracy', 'roc_auc'], n_jobs=-1)\n",
    "\n",
    "    # store results for later\n",
    "    results_dict[lambda_val] = cv_results\n",
    "\n",
    "    # calculation elapsed time and print it to the screen\n",
    "    elapsed_sec              = (datetime.now() - startTime).total_seconds()\n",
    "    print(f\"{lambda_val:10.4f} {elapsed_sec:10.2f} s\")"
   ]
  },
  {
   "cell_type": "markdown",
   "id": "f365887b-e89f-40a6-bba6-bff125927734",
   "metadata": {},
   "source": [
    "* Let's assess performance and number of features as a function of *λ*"
   ]
  },
  {
   "cell_type": "code",
   "execution_count": null,
   "id": "c60ecbb4-307e-4002-8527-c5cd8521d230",
   "metadata": {},
   "outputs": [],
   "source": [
    "# sort the lambda values\n",
    "lambda_vals = sorted(results_dict.keys())\n",
    "\n",
    "# initialize lists to store the aggregated metric means and standard deviations\n",
    "bal_acc_means, bal_acc_stds = [],[]\n",
    "auroc_means, auroc_stds     = [],[]\n",
    "nonzero_means, nonzero_stds = [],[]\n",
    "\n",
    "# loop over each lambda and compute metrics\n",
    "for lambda_val in lambda_vals:\n",
    "    \n",
    "    cv_results     = results_dict[lambda_val]\n",
    "    \n",
    "    # extract balanced accuracy and AUROC scores\n",
    "    test_bal_acc   = cv_results['test_balanced_accuracy']\n",
    "    test_roc_auc   = cv_results['test_roc_auc']\n",
    "    \n",
    "    # compute mean and standard deviation\n",
    "    mean_bal_acc   = np.mean(test_bal_acc)\n",
    "    std_bal_acc    = np.std(test_bal_acc, ddof=1)\n",
    "    mean_roc_auc   = np.mean(test_roc_auc)\n",
    "    std_roc_auc    = np.std(test_roc_auc, ddof=1)\n",
    "    \n",
    "    # compute number of non-zero coefficients for each fold\n",
    "    nonzero_counts = [np.count_nonzero(estimator.coef_[0]) for estimator in cv_results['estimator']]\n",
    "    mean_nonzero   = np.mean(nonzero_counts)\n",
    "    std_nonzero    = np.std(nonzero_counts, ddof=1)\n",
    "    \n",
    "    # Append the computed metrics to the corresponding lists\n",
    "    bal_acc_means.append(mean_bal_acc)\n",
    "    bal_acc_stds.append(std_bal_acc)\n",
    "    auroc_means.append(mean_roc_auc)\n",
    "    auroc_stds.append(std_roc_auc)\n",
    "    nonzero_means.append(mean_nonzero)\n",
    "    nonzero_stds.append(std_nonzero)\n",
    "\n",
    "# print summary information to screen\n",
    "header = (\"Lambda\".ljust(12) + \"Balanced Acc (mean ± std)\".ljust(27) +\n",
    "          \"AUROC (mean ± std)\".ljust(30) + \"Non-zero Coeffs (mean ± std)\")\n",
    "print(header)\n",
    "\n",
    "for i, lambda_val in enumerate(lambda_vals):\n",
    "    nonzero_str = f\"{nonzero_means[i]:10.1f} ± {nonzero_stds[i]:10.1f}\"\n",
    "    print(f\"{lambda_val:10.4f}\\t\" f\"{bal_acc_means[i]:0.3f} ± {bal_acc_stds[i]:0.3f}\\t\\t\"\n",
    "          f\"{auroc_means[i]:0.3f} ± {auroc_stds[i]:0.3f}\\t\\t\" f\"{nonzero_str}\")\n",
    "\n",
    "# create summary plots\n",
    "plot_color  = \"#004488\"\n",
    "error_color = \"#BB5566\"\n",
    "fig, axes   = plt.subplots(3, 1, figsize=(8, 6), sharex=True)\n",
    "\n",
    "# plot Balanced Accuracy\n",
    "axes[0].errorbar(lambda_vals, bal_acc_means, yerr=bal_acc_stds, fmt='o-', capsize=5, color=plot_color, ecolor=error_color)\n",
    "axes[0].set_xscale('log')\n",
    "axes[0].set_ylabel('Balanced Accuracy')\n",
    "axes[0].set_ylim(0.45, 1.0)\n",
    "axes[0].set_yticks([0.5, 0.6, 0.7, 0.8, 0.9, 1.0])\n",
    "axes[0].set_title('Balanced Accuracy vs Lambda')\n",
    "\n",
    "# plot AUROC\n",
    "axes[1].errorbar(lambda_vals, auroc_means, yerr=auroc_stds, fmt='o-', capsize=5, color=plot_color, ecolor=error_color)\n",
    "axes[1].set_xscale('log')\n",
    "axes[1].set_ylabel('AUROC')\n",
    "axes[1].set_ylim(0.45, 1.0)\n",
    "axes[1].set_yticks([0.5, 0.6, 0.7, 0.8, 0.9, 1.0])\n",
    "axes[1].set_title('AUROC vs Lambda')\n",
    "\n",
    "# plot number of non-zero coefficients\n",
    "axes[2].errorbar(lambda_vals, nonzero_means, yerr=nonzero_stds, fmt='o-', capsize=5,color=plot_color, ecolor=error_color)\n",
    "axes[2].set_xscale('log')\n",
    "axes[2].set_ylabel('# of Non-Zero Coefficients')\n",
    "axes[2].set_title('# of Non-Zero Coefficients vs Lambda')\n",
    "axes[2].set_ylim(-25, 350)\n",
    "axes[2].set_xlabel('Lambda')\n",
    "\n",
    "# annotate each point with the mean number of non-zero coefficients (to one decimal)\n",
    "for i, lambda_val in enumerate(lambda_vals):\n",
    "    axes[2].annotate(f\"{nonzero_means[i]:.1f}\", (lambda_val, nonzero_means[i]), \n",
    "                     textcoords=\"offset points\", xytext=(5, 5), fontsize=9, color='black')\n",
    "\n",
    "plt.tight_layout()\n",
    "plt.show()"
   ]
  },
  {
   "cell_type": "markdown",
   "id": "608e43be-643d-4de2-8d17-953dc2fe4539",
   "metadata": {},
   "source": [
    "* This plot and the associated data indicate that *λ* = 1 provides the best model performance based on balanced accuracy & AUROC\n",
    "* As in **Exercise 3.1**, we will use a larger value of *λ* = 10 to limit the size of the non-zero feature space, improving interpretability"
   ]
  },
  {
   "cell_type": "markdown",
   "id": "45b04bb7-d5f8-45f3-841d-b8c63ba35f25",
   "metadata": {},
   "source": [
    "### Step 4 - Build & test the final model"
   ]
  },
  {
   "cell_type": "code",
   "execution_count": null,
   "id": "07821cc5-b295-45ea-94a1-555474c7850e",
   "metadata": {},
   "outputs": [],
   "source": [
    "# choose our preferred value of lambda\n",
    "final_lambda        = 10.\n",
    "\n",
    "# setup the model\n",
    "final_model         = LogisticRegression(penalty=\"l1\", solver=\"saga\", max_iter=max_iter, C=1/final_lambda)\n",
    "\n",
    "# fit the model to the data\n",
    "final_model.fit(X_train, y_train)\n",
    "\n",
    "# evaluate the final model on the holdout dataset\n",
    "y_holdout_pred_prob = final_model.predict_proba(X_holdout)[:, 1]\n",
    "y_holdout_pred      = final_model.predict(X_holdout)\n",
    "holdout_auroc       = roc_auc_score(y_holdout, y_holdout_pred_prob)\n",
    "holdout_bal_acc     = balanced_accuracy_score(y_holdout, y_holdout_pred)\n",
    "\n",
    "print (\"Performance on holdout data\\n\")\n",
    "print(\"Holdout AUROC             :\", '%.3f' %holdout_auroc)\n",
    "print(\"Holdout Balanced Accuracy :\", '%.3f' %holdout_bal_acc, \"\\n\")\n",
    "\n",
    "# extract the nonzero coefficients\n",
    "coef                = final_model.coef_.flatten()\n",
    "nonzero_indices     = coef != 0\n",
    "nonzero_coefs       = coef[nonzero_indices]\n",
    "nonzero_features    = X_train.columns[nonzero_indices]\n",
    "\n",
    "# sort coefficients by absolute magnitude in descending order\n",
    "sorted_indices      = abs(nonzero_coefs).argsort()[::-1]\n",
    "sorted_features     = nonzero_features[sorted_indices]\n",
    "sorted_coefs        = nonzero_coefs[sorted_indices]\n",
    "\n",
    "# print nonzero coefficients\n",
    "print(len(sorted_coefs), \"Nonzero Coefficients (sorted by magnitude)\\n\")\n",
    "for feature, value in zip(sorted_features, sorted_coefs):\n",
    "    print(feature.ljust(26) + \": \" + \"%.5f\" % value)"
   ]
  },
  {
   "cell_type": "markdown",
   "id": "ac947506-b34f-4cd8-a3e3-03508095c67b",
   "metadata": {},
   "source": [
    "### Step 5 - Assess the results\n",
    "* When you are done, consider the following questions:\n",
    "    * If you were tasked with using the results of this analysis to formulate a hypothesis about the features that are critical for determining translation speed, where would you start?\n",
    "    * If we were satisfied with lower accuracy but wanted a smaller number of features to interpret, how could we achieve this?\n",
    "* Use the QR code below to test your knowledge\n",
    "\n",
    "![](../images/section-3-example-2.png)\n",
    "\n",
    "[Quiz Link](https://forms.gle/KVoQcVgk9rqHitpV7)"
   ]
  }
 ],
 "metadata": {
  "kernelspec": {
   "display_name": "Python 3 (ipykernel)",
   "language": "python",
   "name": "python3"
  },
  "language_info": {
   "codemirror_mode": {
    "name": "ipython",
    "version": 3
   },
   "file_extension": ".py",
   "mimetype": "text/x-python",
   "name": "python",
   "nbconvert_exporter": "python",
   "pygments_lexer": "ipython3",
   "version": "3.11.9"
  }
 },
 "nbformat": 4,
 "nbformat_minor": 5
}

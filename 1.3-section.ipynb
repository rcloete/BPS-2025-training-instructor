{
 "cells": [
  {
   "cell_type": "markdown",
   "id": "39a51be3-e39c-409e-bf31-64a2b56b31a4",
   "metadata": {},
   "source": [
    "# Section 1 - Quantifying the association of a feature with an outcome"
   ]
  },
  {
   "cell_type": "markdown",
   "id": "0da81566-b4a9-40ed-9685-0d8567723f39",
   "metadata": {},
   "source": [
    "## Example 1.3\n",
    "\n",
    "**Application 1.3**: We hypothesize that misfolding occurs preferentially in the entangled regions of a protein's primary structure\n",
    "\n",
    "* This hypothesis is related to the hypothesis stated in **Application 1.1**; in this case, rather than considering whether each protein is entangled, we consider here individual amino acids and whether each is involved in an entanglement (detected by analysis of protein structures) and is misfolded (again from LiP-MS experiments).\n",
    "\n",
    "* Take a moment to think - **what should your contingency table look like?** What are the columns, and what are the rows?\n",
    "\n",
    "* Carry out this last example solo by running each of the following cells in sequence\n",
    "* Once you have obtained the result at the end, try explaining your conclusions to at least one person sitting near you"
   ]
  },
  {
   "cell_type": "markdown",
   "id": "6d479b83-1a02-4768-91b8-e6d8fdfaea95",
   "metadata": {},
   "source": [
    "### Step 0 - Load libraries\n",
    "\n",
    "* We first need to make sure we have access to all of the functions etc. that we need for this analysis - let's load some libraries"
   ]
  },
  {
   "cell_type": "code",
   "execution_count": null,
   "id": "a70a201a-cd36-4a30-9d92-9c7a9124eb59",
   "metadata": {},
   "outputs": [],
   "source": [
    "import numpy as np\n",
    "import pandas as pd\n",
    "from scipy.stats import fisher_exact\n",
    "import matplotlib.pyplot as plt"
   ]
  },
  {
   "cell_type": "markdown",
   "id": "33dc5834-e39d-4259-8e15-d1453af1bc89",
   "metadata": {},
   "source": [
    "### Step 1 - Load the data\n",
    "* We will use a data set containing per-residue information on entanglements and misfolding from LiP-MS"
   ]
  },
  {
   "cell_type": "code",
   "execution_count": null,
   "id": "7f04f0dd-2128-4ded-a6a8-06d3c7c65bff",
   "metadata": {},
   "outputs": [],
   "source": [
    "# data3 is a pandas DataFrame object\n",
    "data_path = \"/home/jovyan/data-store/data/iplant/home/shared/NCEMS/BPS-training-2025/\"\n",
    "data3     = pd.read_csv(data_path+\"Ecoli_entanglement_data.csv\")"
   ]
  },
  {
   "cell_type": "markdown",
   "id": "7bd3772c-2cde-4d50-b055-5021a4b51865",
   "metadata": {},
   "source": [
    "### Step 2 - Explore the data\n",
    "* Run a few simple commands to learn more about the data set"
   ]
  },
  {
   "cell_type": "code",
   "execution_count": null,
   "id": "f86562ee-721a-448b-accc-e89d461392a2",
   "metadata": {},
   "outputs": [],
   "source": [
    "# first, print a quick summary\n",
    "print (\"Create a quick summary of the DataFrame:\\n\")\n",
    "data3.info()\n",
    "\n",
    "# second, print the first 10 rows of the DataFrame\n",
    "print (\"\\nPrint the first 10 rows of the DataFrame:\\n\")\n",
    "data3.head(10)"
   ]
  },
  {
   "cell_type": "markdown",
   "id": "0e7bb827-aea7-4e62-a067-75fb7202ce50",
   "metadata": {},
   "source": [
    "* Consider the output from these commands - what can you learn about the data set we are using? (Consider, for example, the line in the output of `data3.info()` for `mapped_resid`).\n",
    "\n",
    "* There are many columns in this file, but we only need a few: (1) `region` indicates whether an entanglement is present (`True`) or absent (`False`) at a residue; (2) `cut_C_Rall` indicates whether misfolding is detected at this residue by LiP-MS in the absence of chaperones.\n",
    "\n",
    "* `cut_CD_Rall` & `cut_CG_Rall` indicate whether misfolding is detected at a residue in the presence of the molecular chaperones DnaK/J & GroEL/ES, respectively. We will only consider the chaperone-free case here.\n",
    "\n",
    "* For these data, we need to do two additional processing steps to (1) remove rows of the DataFrame `data3` that are associated with proteins that had either low coverage or low abundance in the LiP-MS experiment and (2) remove rows of `data3` that correspond to amino acids present in the protein crystal structure but not in the UniProt sequence of the protein:"
   ]
  },
  {
   "cell_type": "code",
   "execution_count": null,
   "id": "b47472fc-e42c-49e6-a335-f3482f75dfc5",
   "metadata": {},
   "outputs": [],
   "source": [
    "# filter to remove proteins that have low abundance or coverage in LiP-MS experiments\n",
    "\n",
    "# load a data set that contains a list of the high-quality proteins from LiP-MS\n",
    "data3_mask = pd.read_csv(data_path+\"Ecoli_C_high-abundance_high-coverage.txt\")\n",
    "\n",
    "# keep only entries that correspond to high-quality proteins from LiP-MS\n",
    "data3_filtered = data3[data3['gene'].isin(data3_mask['gene'])]\n",
    "\n",
    "# remove rows in which mapped_resid is not an integer value\n",
    "data3_filtered = data3_filtered.dropna(subset = ['mapped_resid'])\n",
    "\n",
    "# print a quick summary of the new data3_filtered DataFrame\n",
    "print (\"\\nCreate a quick summary of the filtered DataFrame:\\n\")\n",
    "data3_filtered.info()"
   ]
  },
  {
   "cell_type": "markdown",
   "id": "244e5844-9c29-454a-92a2-92cae13e888d",
   "metadata": {},
   "source": [
    "* Comparing the info printed by `.info()` for `data3` and `data3_filtered`, we can see that the number of rows is reduced from 384,582 to 98,129\n",
    "* There are now no missing values in any row"
   ]
  },
  {
   "cell_type": "markdown",
   "id": "fa7978e2-92ba-4021-8a5a-2c731b5c0bfa",
   "metadata": {},
   "source": [
    "### Step 3 - Run the analysis"
   ]
  },
  {
   "cell_type": "markdown",
   "id": "ebdaf233-ad8d-4ccf-ba51-1eae6eb095bc",
   "metadata": {},
   "source": [
    "* Before running the full analysis below, compare your prediction for the contingency table's format to the table generated by the next cell. Were you correct?"
   ]
  },
  {
   "cell_type": "code",
   "execution_count": null,
   "id": "1de7ae5b-ac1f-495f-a220-374497d0cb97",
   "metadata": {},
   "outputs": [],
   "source": [
    "# print a blank contingency table in the format needed for this hypothesis\n",
    "contingency_table = pd.DataFrame({\"Residue Misfolded\"    : [\"a\", \"c\"], \n",
    "                                  \"Residue Not Misfolded\": [\"b\", \"d\"]},\n",
    "                                 index = [\"Residue Entangled\", \"Residue Not Entangled\"])\n",
    "\n",
    "# print the output\n",
    "print (\"This is our (blank) contingency table:\\n\")\n",
    "\n",
    "# create a table from our contingency_table using matplotlib\n",
    "plt.clf()\n",
    "fig, ax    = plt.subplots(figsize = (5, 2))\n",
    "ax.axis(\"tight\")\n",
    "ax.axis(\"off\")\n",
    "cell_text  = contingency_table.reset_index().values.tolist()\n",
    "col_labels = [\"\"] + contingency_table.columns.tolist()\n",
    "table      = ax.table(cellText=cell_text, colLabels=col_labels, loc=\"center\", cellLoc=\"center\")\n",
    "table.auto_set_font_size(False)\n",
    "table.set_fontsize(14)  \n",
    "table.scale(2, 2)  \n",
    "plt.show()"
   ]
  },
  {
   "cell_type": "markdown",
   "id": "c8fcf64b-d23c-490f-94bd-98d7debfc309",
   "metadata": {},
   "source": [
    "* This table is identical in format to the one employed in **Application 1.1** except \"protein\" is replaced by \"residue\"\n",
    "* Run the cell below to complete the analysis"
   ]
  },
  {
   "cell_type": "code",
   "execution_count": null,
   "id": "992c05fe-4172-428d-88c2-e07e2f437f3a",
   "metadata": {},
   "outputs": [],
   "source": [
    "# compute the values of {a, b, c, d} and construct the contingency table\n",
    "a = len(data3_filtered[(data3_filtered[\"region\"] == True ) & (data3_filtered[\"cut_C_Rall\"] == True )])\n",
    "b = len(data3_filtered[(data3_filtered[\"region\"] == True ) & (data3_filtered[\"cut_C_Rall\"] == False)])\n",
    "c = len(data3_filtered[(data3_filtered[\"region\"] == False) & (data3_filtered[\"cut_C_Rall\"] == True )])\n",
    "d = len(data3_filtered[(data3_filtered[\"region\"] == False) & (data3_filtered[\"cut_C_Rall\"] == False)])\n",
    "\n",
    "# also, put values into a new format to enable a nice print statement\n",
    "contingency_table = pd.DataFrame({\"Residue Misfolded\"    : [a, c], \n",
    "                                  \"Residue Not Misfolded\": [b, d]},\n",
    "                                 index = [\"Residue Entangled\", \"Residue Not Entangled\"])\n",
    "\n",
    "# print the contingency table\n",
    "print (\"This is our contingency table:\\n\")\n",
    "\n",
    "# create a table from our contingency_table using matplotlib\n",
    "plt.clf()\n",
    "fig, ax    = plt.subplots(figsize = (5, 2))\n",
    "ax.axis(\"tight\")\n",
    "ax.axis(\"off\")\n",
    "cell_text  = contingency_table.reset_index().values.tolist()\n",
    "col_labels = [\"\"] + contingency_table.columns.tolist()\n",
    "table      = ax.table(cellText=cell_text, colLabels=col_labels, loc=\"center\", cellLoc=\"center\")\n",
    "table.auto_set_font_size(False)\n",
    "table.set_fontsize(14)  \n",
    "table.scale(2, 2)  \n",
    "plt.show()\n",
    "\n",
    "# use the fisher_exact function from scipy.stats to compute the odds ratio and p-value\n",
    "odds_ratio, fisher_p_value = fisher_exact(contingency_table, alternative = 'two-sided')\n",
    "\n",
    "print (\"The odds ratio is:\", '%.2f' %odds_ratio)\n",
    "print (\"The p-value is   :\", '%.2e' %fisher_p_value)"
   ]
  },
  {
   "cell_type": "markdown",
   "id": "b09111f5-9b59-4595-b93c-268e2962cd0c",
   "metadata": {},
   "source": [
    "### Step 4 - Interpret the results\n",
    "\n",
    "* Think about how you can state this result in simple language and then try to describe it to someone sitting near you\n",
    "* Your explanation should include: (1) A conclusion about the association (*i.e.*, is there positive, negative, or no association) & (2) A statement about the significance of the result based on the computed *p*-value"
   ]
  }
 ],
 "metadata": {
  "kernelspec": {
   "display_name": "Python 3 (ipykernel)",
   "language": "python",
   "name": "python3"
  },
  "language_info": {
   "codemirror_mode": {
    "name": "ipython",
    "version": 3
   },
   "file_extension": ".py",
   "mimetype": "text/x-python",
   "name": "python",
   "nbconvert_exporter": "python",
   "pygments_lexer": "ipython3",
   "version": "3.11.9"
  }
 },
 "nbformat": 4,
 "nbformat_minor": 5
}

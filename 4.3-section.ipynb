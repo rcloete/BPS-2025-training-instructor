{
 "cells": [
  {
   "cell_type": "markdown",
   "id": "f056c88c-f174-4347-ae39-dbf3228277bb",
   "metadata": {},
   "source": [
    "# Section 4 - Avoiding data overinterpretation\n",
    "## Example 4.3\n",
    "**Application 4.3**: Different entanglements have different structural and topological features.  We need to compute corrected *p*-values for these features to determine which ones have a significant influence on whether a protein is linked to disease. \n",
    "\n",
    "* Before running the code cells below, take a minute to think about:\n",
    "    * What steps will you need to take to correct the *p*-values?\n",
    "    * How can you check the number of false positives that you have eliminated?"
   ]
  },
  {
   "cell_type": "markdown",
   "id": "5ddce2a8-c504-4460-be66-7bdb72038aed",
   "metadata": {},
   "source": [
    "### Step 0 - Load libraries"
   ]
  },
  {
   "cell_type": "code",
   "execution_count": null,
   "id": "be2ec4dd-8645-42e6-8afe-810026923d78",
   "metadata": {},
   "outputs": [],
   "source": [
    "import pandas as pd\n",
    "from statsmodels.stats.multitest import multipletests\n",
    "import matplotlib.pyplot as plt\n",
    "import numpy as np"
   ]
  },
  {
   "cell_type": "markdown",
   "id": "06f892a0-e88c-43ce-ad3b-41f24142373f",
   "metadata": {},
   "source": [
    "### Step 1 - Load the data"
   ]
  },
  {
   "cell_type": "code",
   "execution_count": null,
   "id": "99feb402-3bb1-4c6b-86a4-6604b9fff42e",
   "metadata": {},
   "outputs": [],
   "source": [
    "data_path = \"/home/jovyan/data-store/data/iplant/home/shared/NCEMS/BPS-training-2025/\"\n",
    "use_cols = [\"metric\", \"percentile\", \"p_value\"]\n",
    "data11 = pd.read_csv(data_path + \"disease-assoc_p-values.csv\", usecols = use_cols)"
   ]
  },
  {
   "cell_type": "markdown",
   "id": "bfb974af-6f37-42ad-981c-fafb04cc29d1",
   "metadata": {},
   "source": [
    "### Step 2 - Explore the data"
   ]
  },
  {
   "cell_type": "code",
   "execution_count": null,
   "id": "8ca0f504-e83f-49ef-8715-c0a7171eb3e4",
   "metadata": {},
   "outputs": [],
   "source": [
    "# print a quick summary of \"data9\"\n",
    "data11.info()\n",
    "\n",
    "# print the first 10 rows of \"data9\"\n",
    "data11.head(20)"
   ]
  },
  {
   "cell_type": "markdown",
   "id": "5df646db-e07f-494a-b3ff-b5e3820fc71e",
   "metadata": {},
   "source": [
    "* From this exploration of the data, we can see that there are thirteen different entanglement parameters in the `metric` column\n",
    "* Each of these different `metric` values was tested for its ability to predict linkage to disease using three different thresholds for when a gene is linked with disease; this leads to the `percentile` column containing the values `50%`, `75%`, `95%`\n",
    "    * We will focus on the `50%` data in this analysis, so we select only these rows in the cell below"
   ]
  },
  {
   "cell_type": "code",
   "execution_count": null,
   "id": "8b628887-badc-462a-988f-12739a3c1eec",
   "metadata": {},
   "outputs": [],
   "source": [
    "# remove rows that do not correspond to 50th percentile disease linkage calculations\n",
    "data11 = data11[data11[\"percentile\"] == \"50%\"]\n",
    "\n",
    "data11.info()\n",
    "\n",
    "data11.head(20)"
   ]
  },
  {
   "cell_type": "markdown",
   "id": "8b653f21-d06a-49cf-8a1b-23f4142ee91e",
   "metadata": {},
   "source": [
    "* We are left with 13 rows, each with an associated *p*-value"
   ]
  },
  {
   "cell_type": "markdown",
   "id": "1a2db395-f4f1-44e5-a4d5-668e49610df4",
   "metadata": {},
   "source": [
    "### Step 3 - Run the analysis"
   ]
  },
  {
   "cell_type": "code",
   "execution_count": null,
   "id": "61b049c6-8c46-4c3f-8d29-bbf5818d9e61",
   "metadata": {},
   "outputs": [],
   "source": [
    "# define the significance level for our tests\n",
    "alpha = 0.05\n",
    "\n",
    "# apply the Benjamini-Hochberg procedure for FDR correction\n",
    "_, pvals_corrected, _, _ = multipletests(data11['p_value'], alpha = alpha, method = 'fdr_bh')\n",
    "\n",
    "# add corrected p-values as a new column\n",
    "data11['p_value_adjust'] = pvals_corrected\n",
    "\n",
    "# compute the proportion of uncorrected p-values < alpha\n",
    "N_uncorr_acc = (data11['p_value'] < alpha).sum()\n",
    "N_corr_acc   = (data11['p_value_adjust'] < alpha).sum()\n",
    "print (\"Using the uncorrected p-values, we would conclude\", N_uncorr_acc, \"features are significant\")\n",
    "print (\"Using the corrected p-values, we would conclude\", N_corr_acc, \"features are significant\")\n",
    "\n",
    "# make a plot of the distribution of p-values before & after the FDR correction\n",
    "plt.clf()\n",
    "plt.title(\"Histogram\")\n",
    "plt.hist(data11[\"p_value\"], color = \"#004488\", alpha = 0.7, label = \"Uncorrected\", histtype = \"step\", bins = \"fd\", linewidth=2.5) # here, alpha != significance level\n",
    "plt.hist(data11[\"p_value_adjust\"], color = \"#BB5566\", alpha = 0.7, label = \"Corrected\", histtype = \"step\", bins = \"fd\", linewidth=2.5)\n",
    "plt.xlabel(\"p-value\")\n",
    "plt.ylabel(\"Counts\")\n",
    "plt.legend(loc = \"best\")\n",
    "plt.tight_layout()\n",
    "plt.show()\n",
    "\n",
    "# make a plot of the cumulative distribution function of p-values before & after the FDR correction\n",
    "plt.clf()\n",
    "plt.title(\"Cumulative distribution function\")\n",
    "plt.hist(data11[\"p_value\"], color = \"#004488\", alpha = 0.7, label = \"Uncorrected\", histtype = \"step\", bins = \"fd\", cumulative = True, density = True, linewidth=2.5) # here, alpha != significance level\n",
    "plt.hist(data11[\"p_value_adjust\"], color = \"#BB5566\", alpha = 0.7, label = \"Corrected\", histtype = \"step\", bins = \"fd\", cumulative = True, density = True, linewidth=2.5)\n",
    "plt.xlabel(\"p-value\")\n",
    "plt.ylabel(\"Cumulative probability\")\n",
    "plt.legend(loc = \"best\")\n",
    "plt.tight_layout()\n",
    "plt.show()\n",
    "\n",
    "# make an additional plot showing the p-values\n",
    "\n",
    "np.random.seed(1)\n",
    "jitter1 = np.random.uniform(-0.1, 0.1, size=13)\n",
    "jitter2 = np.random.uniform(-0.1, 0.1, size=13)\n",
    "\n",
    "plt.clf()\n",
    "plt.title(\"Scatter plot\")\n",
    "plt.scatter(np.ones(13) + jitter1, data11[\"p_value\"],  color = \"#004488\", alpha = 0.7, label = \"Uncorrected\")#, marker = \"_\")\n",
    "plt.scatter(2.0*np.ones(13) + jitter2, data11[\"p_value_adjust\"],  color = \"#BB5566\", alpha = 0.7, label = \"Corrected\")#, marker = \"_\")\n",
    "plt.plot([0, 3], [0.05, 0.05], \"r--\")\n",
    "plt.xlim(0.5, 2.5)\n",
    "plt.xticks([1, 2], [\"Uncorrected\", \"Corrected\"])\n",
    "plt.yscale('log')\n",
    "plt.ylim(1E-5, 10)\n",
    "plt.ylabel(\"p-value\")\n",
    "plt.tight_layout()\n",
    "plt.show()"
   ]
  },
  {
   "cell_type": "markdown",
   "id": "62c43061-070d-41ad-88fc-998e5c34fc38",
   "metadata": {},
   "source": [
    "### Step 4 - Interpret the results\n",
    "\n",
    "* Think about what we can conclude based on this analysis. Consider the following:\n",
    "    * How many false positives have you eliminated?\n",
    "* Once you are confident in your answers, discuss them with someone sitting near you. "
   ]
  }
 ],
 "metadata": {
  "kernelspec": {
   "display_name": "Python 3 (ipykernel)",
   "language": "python",
   "name": "python3"
  },
  "language_info": {
   "codemirror_mode": {
    "name": "ipython",
    "version": 3
   },
   "file_extension": ".py",
   "mimetype": "text/x-python",
   "name": "python",
   "nbconvert_exporter": "python",
   "pygments_lexer": "ipython3",
   "version": "3.11.9"
  }
 },
 "nbformat": 4,
 "nbformat_minor": 5
}

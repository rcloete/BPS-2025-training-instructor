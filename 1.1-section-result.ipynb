{
 "cells": [
  {
   "cell_type": "markdown",
   "id": "65afc88b-ee4f-459a-8d0d-51c333ff90c4",
   "metadata": {},
   "source": [
    "# Section 1 - Quantifying the association of a feature with an outcome\n",
    "\n",
    "* We frequently want to know if a **feature** is **associated** with an **outcome**. For example, we might want to determine:\n",
    "    * Is the presence of a specific cell stress condition (feature) associated with the formation of stress granules (outcome)?\n",
    "    * Is the amino acid sequence of a protein (feature) associated with its propensity to misfold (outcome)?\n",
    "* This type of analysis is invaluable for checking for correlations between features and outcomes in complex data\n",
    "* In this section we will explore using contingency tables, odds ratios, and Fisher's Exact Test to test for association\n",
    "\n",
    "## Example 1.1\n",
    "\n",
    "**Application 1.1**: We hypothesize that *E. coli* proteins that contain native entanglements are more likely to misfold than proteins without entanglements.\n",
    "\n",
    "* To proceed, we need information about which proteins in *E. coli* contain entanglements and which proteins in *E. coli* misfold. \n",
    "\n",
    "### What is an entanglement? How can we tell if a protein is entangled?\n",
    "\n",
    "* Entanglements are a structural motif in proteins formed by two segments: a loop (closed by a native contact) and a thread (**Figures 1.1.1** & **1.1.2**).\n",
    "\n",
    "![](../images/entanglement-2D.png)\n",
    "\n",
    "**Figure 1.1.1**. *General structure of a non-covalent lasso entanglement. The threading segment (blue) passes through a loop (red) that is closed by a native contact (yellow). J. Mol. Biol. 436 (2024) 168487.*\n",
    "\n",
    "![](../images/native-and-entangled-states.png)\n",
    "\n",
    "**Figure 1.1.2**. *3D structures of oligoribonuclease without (left) and with (right) an entanglement. The threading segment (blue) passes through a loop (red) that is closed by a native contact (yellow). J. Mol. Biol. 436 (2024) 168487.*\n",
    "\n",
    "* Some proteins contain entanglements in their native state (*i.e.*, native entanglements)\n",
    "  \n",
    "* Some proteins can gain or lose entanglements during misfolding\n",
    "\n",
    "* For the current hypothesis, we are concerned with native entanglements; this information can be obtained by analyzing either experimental structures or predicted structures\n",
    "\n",
    "* Our analysis will use data on entanglements computed from experimental structures of *E. coli* proteins\n",
    "\n",
    "### How can we tell if a protein misfolds?\n",
    "\n",
    "* The structural proteomics technique *limited proteolysis mass spectrometry* (LiP-MS) profiles changes in protein structures across the proteome in response to perturbations (**Figure 1.1.3**)\n",
    "\n",
    "![](../images/lip-ms.png)\n",
    "\n",
    "**Figure 1.1.3**. *Schematic of a LiP-MS experiment. When studying misfolding, one sample will be treated with guanidinium chloride to induce unfolding before a dilution jump is used to stimulate refolding; the other sample is not treated with guanidinium chloride, preserving protein native states. Nature Protocols volume 12, p. 2391–2410 (2017).*\n",
    "\n",
    "* LiP-MS compares differences in protein structures between two samples\n",
    "\n",
    "* In the case at hand, a protein is considered to misfold if there is a significant change in its limited proteolysis digestion pattern between a guanidinium chloride-unfolded/refolded and an untreated sample containing natively folded protein\n",
    "\n",
    "* We will use LiP-MS data from *E. coli* to match the *E. coli* entanglement data\n",
    "\n",
    "### We have our data - what now?\n",
    "\n",
    "* Now that we have identified relevant data to test our hypothesis, let's dive into some code. "
   ]
  },
  {
   "cell_type": "markdown",
   "id": "74192de8-a5f7-44d1-bafe-e1b4c6924f2f",
   "metadata": {},
   "source": [
    "## Testing our hypothesis in Python\n",
    "\n",
    "### Step 0 - Load libraries\n",
    "\n",
    "* We first need to make sure we have access to all of the functions etc. that we need for this analysis - let's load some libraries"
   ]
  },
  {
   "cell_type": "code",
   "execution_count": 1,
   "id": "d3100142-2d41-4769-96a9-a83a016d3c16",
   "metadata": {},
   "outputs": [],
   "source": [
    "import numpy as np\n",
    "import pandas as pd\n",
    "from scipy.stats import fisher_exact\n",
    "import matplotlib.pyplot as plt"
   ]
  },
  {
   "cell_type": "markdown",
   "id": "f9de656e-61a7-4838-8171-c4944ab0c64b",
   "metadata": {},
   "source": [
    "### Step 1 - Load the data\n",
    "* After loading the libraries, we now need to load the data into memory"
   ]
  },
  {
   "cell_type": "code",
   "execution_count": 2,
   "id": "eb29bf71-75cf-487f-80f5-97cd5b94ed7e",
   "metadata": {},
   "outputs": [],
   "source": [
    "# \"data1\" is a pandas DataFrame object\n",
    "data_path = \"/home/jovyan/data-store/data/iplant/home/shared/NCEMS/BPS-training-2025/\"\n",
    "data1     = pd.read_csv(data_path + \"NativeEntanglements_and_SigCuts_EXP_buffC.csv\")"
   ]
  },
  {
   "cell_type": "markdown",
   "id": "00ce76f9-098b-4ceb-ba11-8f5d4d0295c5",
   "metadata": {},
   "source": [
    "### Step 2 - Explore the data"
   ]
  },
  {
   "cell_type": "markdown",
   "id": "0ae96444-bc08-442b-879a-e1901e054b21",
   "metadata": {
    "jp-MarkdownHeadingCollapsed": true
   },
   "source": [
    "* Let's explore the data quickly to get a better understanding of what we need to do"
   ]
  },
  {
   "cell_type": "code",
   "execution_count": 3,
   "id": "535d80d6-1ca4-425a-a66c-d5154ca2eee8",
   "metadata": {},
   "outputs": [
    {
     "name": "stdout",
     "output_type": "stream",
     "text": [
      "Create a quick summary of the DataFrame:\n",
      "\n",
      "<class 'pandas.core.frame.DataFrame'>\n",
      "RangeIndex: 345 entries, 0 to 344\n",
      "Data columns (total 4 columns):\n",
      " #   Column         Non-Null Count  Dtype \n",
      "---  ------         --------------  ----- \n",
      " 0   buff           345 non-null    object\n",
      " 1   gene           345 non-null    object\n",
      " 2   NativeEnt      345 non-null    bool  \n",
      " 3   NonRefoldable  345 non-null    bool  \n",
      "dtypes: bool(2), object(2)\n",
      "memory usage: 6.2+ KB\n",
      "\n",
      "Print the first 10 rows of the DataFrame:\n",
      "\n"
     ]
    },
    {
     "data": {
      "text/html": [
       "<div>\n",
       "<style scoped>\n",
       "    .dataframe tbody tr th:only-of-type {\n",
       "        vertical-align: middle;\n",
       "    }\n",
       "\n",
       "    .dataframe tbody tr th {\n",
       "        vertical-align: top;\n",
       "    }\n",
       "\n",
       "    .dataframe thead th {\n",
       "        text-align: right;\n",
       "    }\n",
       "</style>\n",
       "<table border=\"1\" class=\"dataframe\">\n",
       "  <thead>\n",
       "    <tr style=\"text-align: right;\">\n",
       "      <th></th>\n",
       "      <th>buff</th>\n",
       "      <th>gene</th>\n",
       "      <th>NativeEnt</th>\n",
       "      <th>NonRefoldable</th>\n",
       "    </tr>\n",
       "  </thead>\n",
       "  <tbody>\n",
       "    <tr>\n",
       "      <th>0</th>\n",
       "      <td>C</td>\n",
       "      <td>P00350</td>\n",
       "      <td>True</td>\n",
       "      <td>True</td>\n",
       "    </tr>\n",
       "    <tr>\n",
       "      <th>1</th>\n",
       "      <td>C</td>\n",
       "      <td>P00370</td>\n",
       "      <td>True</td>\n",
       "      <td>True</td>\n",
       "    </tr>\n",
       "    <tr>\n",
       "      <th>2</th>\n",
       "      <td>C</td>\n",
       "      <td>P00448</td>\n",
       "      <td>True</td>\n",
       "      <td>True</td>\n",
       "    </tr>\n",
       "    <tr>\n",
       "      <th>3</th>\n",
       "      <td>C</td>\n",
       "      <td>P00509</td>\n",
       "      <td>True</td>\n",
       "      <td>True</td>\n",
       "    </tr>\n",
       "    <tr>\n",
       "      <th>4</th>\n",
       "      <td>C</td>\n",
       "      <td>P00561</td>\n",
       "      <td>True</td>\n",
       "      <td>False</td>\n",
       "    </tr>\n",
       "    <tr>\n",
       "      <th>5</th>\n",
       "      <td>C</td>\n",
       "      <td>P00579</td>\n",
       "      <td>False</td>\n",
       "      <td>False</td>\n",
       "    </tr>\n",
       "    <tr>\n",
       "      <th>6</th>\n",
       "      <td>C</td>\n",
       "      <td>P00864</td>\n",
       "      <td>True</td>\n",
       "      <td>True</td>\n",
       "    </tr>\n",
       "    <tr>\n",
       "      <th>7</th>\n",
       "      <td>C</td>\n",
       "      <td>P00934</td>\n",
       "      <td>True</td>\n",
       "      <td>True</td>\n",
       "    </tr>\n",
       "    <tr>\n",
       "      <th>8</th>\n",
       "      <td>C</td>\n",
       "      <td>P00954</td>\n",
       "      <td>False</td>\n",
       "      <td>True</td>\n",
       "    </tr>\n",
       "    <tr>\n",
       "      <th>9</th>\n",
       "      <td>C</td>\n",
       "      <td>P00957</td>\n",
       "      <td>True</td>\n",
       "      <td>True</td>\n",
       "    </tr>\n",
       "  </tbody>\n",
       "</table>\n",
       "</div>"
      ],
      "text/plain": [
       "  buff    gene  NativeEnt  NonRefoldable\n",
       "0    C  P00350       True           True\n",
       "1    C  P00370       True           True\n",
       "2    C  P00448       True           True\n",
       "3    C  P00509       True           True\n",
       "4    C  P00561       True          False\n",
       "5    C  P00579      False          False\n",
       "6    C  P00864       True           True\n",
       "7    C  P00934       True           True\n",
       "8    C  P00954      False           True\n",
       "9    C  P00957       True           True"
      ]
     },
     "metadata": {},
     "output_type": "display_data"
    },
    {
     "name": "stdout",
     "output_type": "stream",
     "text": [
      "\n",
      "The number of unique genes is: 345\n"
     ]
    }
   ],
   "source": [
    "# first, print a quick summary\n",
    "print (\"Create a quick summary of the DataFrame:\\n\")\n",
    "data1.info()\n",
    "\n",
    "# second, print the first 10 rows of data1\n",
    "print (\"\\nPrint the first 10 rows of the DataFrame:\\n\")\n",
    "display(data1.head(10))\n",
    "\n",
    "# third, count the number of unique gene identifiers in column \"gene\" of data1\n",
    "print (\"\\nThe number of unique genes is:\", len(data1[\"gene\"].unique()))"
   ]
  },
  {
   "cell_type": "markdown",
   "id": "af222ee5-e47f-4d9f-9e02-6322eb740ab0",
   "metadata": {},
   "source": [
    "* We can see from this summary that this data file contains 4 columns:\n",
    "    * `buff`: the buffer condition for the experiment\n",
    "    * `gene`: the unique gene identifier (there are no duplicates!)\n",
    "    * `NativeEnt`: `True` if the protein has a native entanglement, `False` if it does not\n",
    "    * `NonRefoldable`: `True` if the protein *did not* refold in LiP-MS experiment (i.e., misfolded), `False` if it *did* refold\n",
    "<pre>\n",
    "\n",
    "</pre>\n",
    "* Now that we have a better understanding of the data, we are ready to run our analysis."
   ]
  },
  {
   "cell_type": "markdown",
   "id": "af61cd35-5ec2-490a-8412-2d053507bf7e",
   "metadata": {},
   "source": [
    "### Step 3 - Run the analysis"
   ]
  },
  {
   "cell_type": "code",
   "execution_count": 4,
   "id": "b846173b-4c52-4a5a-9212-072468d6e8b2",
   "metadata": {},
   "outputs": [
    {
     "name": "stdout",
     "output_type": "stream",
     "text": [
      "This is our contingency table:\n",
      "\n"
     ]
    },
    {
     "data": {
      "text/plain": [
       "<Figure size 640x480 with 0 Axes>"
      ]
     },
     "metadata": {},
     "output_type": "display_data"
    },
    {
     "data": {
      "image/png": "[encoded data removed]",
      "text/plain": [
       "<Figure size 500x200 with 1 Axes>"
      ]
     },
     "metadata": {},
     "output_type": "display_data"
    }
   ],
   "source": [
    "# compute the values of {a, b, c, d} and construct the contingency table\n",
    "a = len(data1[(data1[\"NativeEnt\"] == True ) & (data1[\"NonRefoldable\"] == True )])\n",
    "b = len(data1[(data1[\"NativeEnt\"] == True ) & (data1[\"NonRefoldable\"] == False)])\n",
    "c = len(data1[(data1[\"NativeEnt\"] == False) & (data1[\"NonRefoldable\"] == True )])\n",
    "d = len(data1[(data1[\"NativeEnt\"] == False) & (data1[\"NonRefoldable\"] == False)])\n",
    "\n",
    "# put values into a new format to enable a nice print statement & analysis\n",
    "contingency_table = pd.DataFrame({\"Protein Misfolded\"    : [a, c], \n",
    "                                  \"Protein Not Misfolded\": [b, d]},\n",
    "                                 index = [\"Protein Entangled\", \"Protein Not Entangled\"])\n",
    "\n",
    "# print the output\n",
    "print (\"This is our contingency table:\\n\")\n",
    "\n",
    "# create a table from our contingency_table using matplotlib\n",
    "plt.clf()\n",
    "fig, ax    = plt.subplots(figsize = (5, 2))\n",
    "ax.axis(\"tight\")\n",
    "ax.axis(\"off\")\n",
    "cell_text  = contingency_table.reset_index().values.tolist()\n",
    "col_labels = [\"\"] + contingency_table.columns.tolist()\n",
    "table      = ax.table(cellText=cell_text, colLabels=col_labels, loc=\"center\", cellLoc=\"center\")\n",
    "table.auto_set_font_size(False)\n",
    "table.set_fontsize(14)  \n",
    "table.scale(2, 2)  \n",
    "plt.show()"
   ]
  },
  {
   "cell_type": "markdown",
   "id": "608fea5c-9cfc-4a3a-8d9c-17eea4d23d1a",
   "metadata": {},
   "source": [
    "* We can complete this analysis by computing the odds ratio and *p*-value"
   ]
  },
  {
   "cell_type": "code",
   "execution_count": 5,
   "id": "4113363a-c960-4c89-8302-5dd345927872",
   "metadata": {},
   "outputs": [
    {
     "name": "stdout",
     "output_type": "stream",
     "text": [
      "The odds ratio is: 4.19\n",
      "The p-value is   : 2.93e-06\n"
     ]
    }
   ],
   "source": [
    "# use the fisher_exact function from scipy.stats to compute the odds ratio and p-value\n",
    "odds_ratio, fisher_p_value = fisher_exact(contingency_table, alternative = \"two-sided\")\n",
    "\n",
    "# print the results of this analysis\n",
    "print (\"The odds ratio is:\", \"%.2f\" %odds_ratio)\n",
    "print (\"The p-value is   :\", \"%.2e\" %fisher_p_value)"
   ]
  },
  {
   "cell_type": "markdown",
   "id": "8c5d47cf-cfd2-447c-a931-3050c03d3cd6",
   "metadata": {},
   "source": [
    "### Step 4 - Interpret the results\n",
    "\n",
    "* The odds ratio of 4.19 indicates that there is a **positive association** between entanglement and misfolding\n",
    "* In other words, entanglement and misfolding tend to co-occur in the same protein, supporting our hypothesis\n",
    "    * Odds ratios > 1 indicate positive association\n",
    "    * Odds ratios = 1 indicate no association\n",
    "    * Odds ratios < 1 indicate negative association\n",
    "* We can also say that the **odds** of an entangled protein misfolding are 4.19 times greater than the odds of a non-entangled protein misfolding\n",
    "* The *p*-value is <<0.05, which is a common threshold for significance; in this instance, we conclude the result is significant"
   ]
  }
 ],
 "metadata": {
  "kernelspec": {
   "display_name": "Python 3 (ipykernel)",
   "language": "python",
   "name": "python3"
  },
  "language_info": {
   "codemirror_mode": {
    "name": "ipython",
    "version": 3
   },
   "file_extension": ".py",
   "mimetype": "text/x-python",
   "name": "python",
   "nbconvert_exporter": "python",
   "pygments_lexer": "ipython3",
   "version": "3.11.9"
  }
 },
 "nbformat": 4,
 "nbformat_minor": 5
}

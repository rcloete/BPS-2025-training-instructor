{
 "cells": [
  {
   "cell_type": "markdown",
   "id": "db9927dc-7e74-4870-9542-9be690df3fe5",
   "metadata": {},
   "source": [
    "# Section 2 - Controlling for confounding factors"
   ]
  },
  {
   "cell_type": "markdown",
   "id": "ce85528b-e000-4498-95f3-16531b0b07da",
   "metadata": {},
   "source": [
    "## Example 2.2\n",
    "**Application 2.2**: Determining if protein size explains the previously noted (**Example 1.2**) association of entanglements with disease in humans\n",
    "\n",
    "* Larger proteins may be more prone to misfolding and thus causing a disease regardless of their entanglement status\n",
    "* In this example, you will use the code below to carry out a logistic regression analysis of the relationship between disease and entanglement while treating protein size as a confounding factor"
   ]
  },
  {
   "cell_type": "markdown",
   "id": "07aa465c-d87b-4f69-907a-fac37aa90562",
   "metadata": {},
   "source": [
    "### Step 0 - Load libraries"
   ]
  },
  {
   "cell_type": "code",
   "execution_count": null,
   "id": "3cf841e3-fd17-44f5-9971-46d8411804dd",
   "metadata": {},
   "outputs": [],
   "source": [
    "import pandas as pd\n",
    "import statsmodels.api as sm\n",
    "import numpy as np"
   ]
  },
  {
   "cell_type": "markdown",
   "id": "29429873-b852-480e-8020-25dc56e56112",
   "metadata": {},
   "source": [
    "### Step 1 - Load and explore the data\n",
    "* We will reuse the same information from **Example 1.2** but load a new version that includes information about protein length"
   ]
  },
  {
   "cell_type": "code",
   "execution_count": null,
   "id": "21061ab2-2a2e-411d-9afb-f5ccd7b72d0a",
   "metadata": {},
   "outputs": [],
   "source": [
    "# \"data5\" is a pandas DataFrame object\n",
    "data_path = \"/home/jovyan/data-store/data/iplant/home/shared/NCEMS/BPS-training-2025/\"\n",
    "data5     = pd.read_csv(data_path + \"entanglement-disease-association-length.csv\")\n",
    "\n",
    "# print summary information\n",
    "print (\"Create a quick summary of the DataFrame:\\n\")\n",
    "data5.info()\n",
    "\n",
    "print (\"\\nPrint the first 10 rows of the DataFrame:\\n\")\n",
    "data5.head(10)"
   ]
  },
  {
   "cell_type": "markdown",
   "id": "d29559c4-bcef-44e3-83d3-61a4cce2afec",
   "metadata": {},
   "source": [
    "* This dataset uses `Yes` and `No` rather than binary `1` and `0` - we will need to recode the columns `Entanglement` and `disease-linked` to be binary integers"
   ]
  },
  {
   "cell_type": "markdown",
   "id": "d363946b-89bf-466e-b7c5-ea9f50dba31b",
   "metadata": {},
   "source": [
    "### Step 2 - Prepare for analysis"
   ]
  },
  {
   "cell_type": "code",
   "execution_count": null,
   "id": "2013e35c-d393-421f-87cb-1d0764bf8026",
   "metadata": {},
   "outputs": [],
   "source": [
    "# create two new columns with values recoded from Yes and No strings to binary 1 and 0 integers\n",
    "recode_map                         = {\"Yes\": 1, \"No\": 0}\n",
    "data5['disease-linked-binary']     = data5['disease-linked'].map(recode_map)\n",
    "data5['entanglement-binary']       = data5['entanglement'].map(recode_map)\n",
    "\n",
    "# add column of 1's corresponding to the intercept\n",
    "data5['intercept'] = 1\n",
    "\n",
    "# print a summary of the updated DataFrame\n",
    "print (\"\\nHere is the updated DataFrame:\\n\")\n",
    "data5.head(10)"
   ]
  },
  {
   "cell_type": "markdown",
   "id": "09aa635f-52c7-48c0-968d-d80f024350e5",
   "metadata": {},
   "source": [
    "* With these three new columns of `disease-linked-binary`, `entanglement-binary`, and `intercept` we are ready to the run the analysis"
   ]
  },
  {
   "cell_type": "markdown",
   "id": "7132b4d3-a414-488e-a692-229d4269a575",
   "metadata": {},
   "source": [
    "### Step 3 - Run the analysis"
   ]
  },
  {
   "cell_type": "code",
   "execution_count": null,
   "id": "1579675f-5e26-4c29-a4a8-dbe529b51228",
   "metadata": {},
   "outputs": [],
   "source": [
    "# make two X datasets, one including the confounder and one excluding it\n",
    "\n",
    "# X1 includes only the feature\n",
    "X1 = data5[['intercept', 'entanglement-binary']]\n",
    "\n",
    "# X2 includes both the feature and the confounder\n",
    "X2 = data5[['intercept', 'entanglement-binary', 'Length']]\n",
    "\n",
    "# define the dependent variable (i.e., the outcome)\n",
    "y = data5['disease-linked-binary']\n",
    "\n",
    "# create two LogisticRegression() objects, fit the models, get coefficients, and compute odds ratios\n",
    "\n",
    "# model1 will not include the confounder\n",
    "model1  = sm.Logit(y, X1)\n",
    "result1 = model1.fit(disp = 0)\n",
    "\n",
    "# print a summary of result1\n",
    "print (\"\\nResults when confounding factor IS NOT included:\\n\")\n",
    "\n",
    "# get a summary of the results\n",
    "odds_ratios = pd.DataFrame({\"Coefficient\": result1.params,\n",
    "                            \"OR\"         : np.exp(result1.params),  \n",
    "                            \"Lower CI\"   : np.exp(result1.conf_int()[0]),  \n",
    "                            \"Upper CI\"   : np.exp(result1.conf_int()[1]),\n",
    "                            \"p-value\"    : result1.pvalues}).drop(index=\"intercept\", errors=\"ignore\")\n",
    "\n",
    "# print the results\n",
    "print (odds_ratios.round(3), \"\\n\")\n",
    "\n",
    "# model1 will not include the confounder\n",
    "model2  = sm.Logit(y, X2)\n",
    "result2 = model2.fit(disp = 0)\n",
    "\n",
    "# print a summary of result1\n",
    "print (\"\\nResults when confounding factor IS included:\\n\")\n",
    "\n",
    "# get a summary of the results\n",
    "odds_ratios = pd.DataFrame({\"Coefficient\": result2.params,\n",
    "                            \"OR\"         : np.exp(result2.params),  \n",
    "                            \"Lower CI\"   : np.exp(result2.conf_int()[0]),  \n",
    "                            \"Upper CI\"   : np.exp(result2.conf_int()[1]),\n",
    "                            \"p-value\"    : result2.pvalues}).drop(index=\"intercept\", errors=\"ignore\")\n",
    "\n",
    "# print the odds ratio\n",
    "print (odds_ratios.round(3), \"\\n\")"
   ]
  },
  {
   "cell_type": "markdown",
   "id": "e44b7127-191d-46e2-bfd3-bdd9be592c28",
   "metadata": {},
   "source": [
    "### Step 4 - Interpreting the results\n",
    "\n",
    "* Use the quiz question at the QR code/link below to test your understanding\n",
    "\n",
    "![](../images/section-2-example-2.png)\n",
    "\n",
    "[Quiz Link](https://forms.gle/BYjF5YYfvvbL4NTSA)"
   ]
  }
 ],
 "metadata": {
  "kernelspec": {
   "display_name": "Python 3 (ipykernel)",
   "language": "python",
   "name": "python3"
  },
  "language_info": {
   "codemirror_mode": {
    "name": "ipython",
    "version": 3
   },
   "file_extension": ".py",
   "mimetype": "text/x-python",
   "name": "python",
   "nbconvert_exporter": "python",
   "pygments_lexer": "ipython3",
   "version": "3.11.9"
  }
 },
 "nbformat": 4,
 "nbformat_minor": 5
}

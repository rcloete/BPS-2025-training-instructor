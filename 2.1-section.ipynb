{
 "cells": [
  {
   "cell_type": "markdown",
   "id": "db9927dc-7e74-4870-9542-9be690df3fe5",
   "metadata": {},
   "source": [
    "# Section 2 - Controlling for confounding factors\n",
    "\n",
    "* A **confounding factor** is a variable that is associated with both a **feature** and an **outcome**\n",
    "* The presence of confounding factors can distort the true relationship between features and outcomes, leading to incorrect conclusions\n",
    "* In this section, we will explore the use of **logistic regression** to control for the influence of confounding factors in calculations of association"
   ]
  },
  {
   "cell_type": "markdown",
   "id": "32b534ad-f679-42c8-a859-0c727763ca11",
   "metadata": {},
   "source": [
    "## Example 2.1\n",
    "**Application 2.1**: Determining if protein size explains the previously noted (**Example 1.1**) association of entanglements with misfolding in *E. coli*\n",
    "\n",
    "### Why do we suspect protein length may be a confounding factor?\n",
    "\n",
    "* Small proteins will tend to have simple free-energy landscapes that favor fast & correct folding (**Figure 2.1.1**)\n",
    "\n",
    "![](../images/simple-folding-landscape.png)\n",
    "\n",
    "**Figure 2.1.1**. *Smaller proteins will tend to have simpler free-energy landscapes approaching the idealized case shown here, in which the native state (N) is at the global free-energy minimum and there are no local minima with similar stabilities. Reproduced from Dill & Chan. Nat. Struc. Biol. 1997.*\n",
    "  \n",
    "* As proteins increase in size, their free-energy landscapes increase in complexity (**Figure 2.1.2**)\n",
    "\n",
    "![](../images/complex-folding-landscape.png)\n",
    "\n",
    "**Figure 2.1.2**. *Larger proteins will tend to have more complex free-energy landscapes characterized by a number of local minima that may be similar to the native state (N) in free energy. These local minima may correspond to misfolded states that are separated from the native state by high energy barriers. Reproduced from Dill & Chan. Nat. Struc. Biol. 1997.*\n",
    "\n",
    "* This increased complexity in the free-energy landscape may lead to misfolding\n",
    "* Protein size is thus a key confounding factor for our analysis in **Application 1.1** of the association of entanglement with misfolding\n",
    "\n",
    "### Testing for the influence of confounding factors with logistic regression\n",
    "\n",
    "* Now that we have framed the problem, let's dive into using **logistic regression** to test the influence of confounding factors on association"
   ]
  },
  {
   "cell_type": "markdown",
   "id": "8db5cc54-0be2-4d85-aef8-9546b817e0b1",
   "metadata": {},
   "source": [
    "### Step 0 - Load libraries\n",
    "\n",
    "* As always, we begin by loading libraries to set up our environment"
   ]
  },
  {
   "cell_type": "code",
   "execution_count": null,
   "id": "b8659b10-20bf-41fc-8a4c-1542eec67a48",
   "metadata": {},
   "outputs": [],
   "source": [
    "import pandas as pd\n",
    "import statsmodels.api as sm\n",
    "import numpy as np"
   ]
  },
  {
   "cell_type": "markdown",
   "id": "5aa5beff-cba8-4d01-a354-3730e21940ed",
   "metadata": {},
   "source": [
    "### Step 1 - Load and explore the data\n",
    "\n",
    "* We need to do a little data manipulation to prepare for analysis; we will load one set of data with information on misfolding (LiP-MS) and entanglement and then use a second set of data to add protein length information"
   ]
  },
  {
   "cell_type": "code",
   "execution_count": null,
   "id": "da4be88f-6344-4005-9bcb-4e1605efd129",
   "metadata": {},
   "outputs": [],
   "source": [
    "# data4_p1 contains information about misfolding and entanglement status for each protein \n",
    "data_path   = \"/home/jovyan/data-store/data/iplant/home/shared/NCEMS/BPS-training-2025/\"\n",
    "data4_p1    = pd.read_csv(data_path + \"NativeEntanglements_and_SigCuts_EXP_buffC.csv\")\n",
    "\n",
    "# data4_p2 contains information on protein length; we will only load the columns \"gene\" and \"uniprot_length\"\n",
    "data4_p2    = pd.read_csv(data_path + \"Ecoli_entanglement_data.csv\", usecols = [\"gene\", \"uniprot_length\"])\n",
    "\n",
    "# remove duplicate rows based on gene identifier from data4_p2\n",
    "data4_p2.drop_duplicates(subset = \"gene\", keep = \"first\", inplace = True)\n",
    "\n",
    "# perform a merge of data4_p1 & data4_p2 to insert uniprot_length information for each protein in data4_p1\n",
    "data4_final = pd.merge(data4_p1, data4_p2, on = \"gene\", how = \"left\")\n",
    "\n",
    "# print summary information\n",
    "print (\"Create a quick summary of the DataFrame:\\n\")\n",
    "data4_final.info()\n",
    "\n",
    "print (\"\\nPrint the first 10 rows of the DataFrame:\\n\")\n",
    "data4_final.head(10)"
   ]
  },
  {
   "cell_type": "markdown",
   "id": "74913497-2f7e-4246-8681-fa85e3d982b3",
   "metadata": {},
   "source": [
    "### Step 2 - Prepare for analysis"
   ]
  },
  {
   "cell_type": "markdown",
   "id": "d63e90f3-474f-43c8-872e-5a3634a99f2c",
   "metadata": {},
   "source": [
    "* We now have *almost* all of the information needed for our planned analysis in a single DataFrame, `data4_final`\n",
    "* We need to do a few final data manipulations and add a single new column, and then we are ready to go"
   ]
  },
  {
   "cell_type": "code",
   "execution_count": null,
   "id": "a8da3b15-55f4-461c-bb70-5c54d5e92a5f",
   "metadata": {},
   "outputs": [],
   "source": [
    "# the values of NativeEnt & NonRefoldable are currently booleans (True & False)\n",
    "# we need to convert True to 1 and False to 0 for logistic regression\n",
    "recode_map                   = {True: 1, False: 0}\n",
    "data4_final['NativeEnt']     = data4_final['NativeEnt'].map(recode_map)\n",
    "data4_final['NonRefoldable'] = data4_final['NonRefoldable'].map(recode_map)\n",
    "\n",
    "# finally, we need to add a column representing the intercept of the logistic regression model\n",
    "# we will use this in Step 3 when running the regression\n",
    "\n",
    "# add column of 1's corresponding to the intercept\n",
    "# the intercept represents the log-odds of the outcome when all features are zero\n",
    "data4_final['intercept'] = 1\n",
    "\n",
    "# print a summary of this DataFrame\n",
    "data4_final.info()\n",
    "data4_final.head(10)"
   ]
  },
  {
   "cell_type": "markdown",
   "id": "4deec07c-76eb-4a1f-a85b-799dc9fe2dd9",
   "metadata": {},
   "source": [
    "### Step 3 - Run the analysis"
   ]
  },
  {
   "cell_type": "code",
   "execution_count": null,
   "id": "9fcd5a16-e08a-46f8-a9e7-e00195a8c14a",
   "metadata": {},
   "outputs": [],
   "source": [
    "# make two X datasets X1 & X2, one including the confounder and one excluding it\n",
    "\n",
    "# X1 includes only the feature\n",
    "X1 = data4_final[['intercept', 'NativeEnt']]\n",
    "\n",
    "# X2 includes both the feature and the confounder\n",
    "X2 = data4_final[['intercept', 'NativeEnt', 'uniprot_length']]\n",
    "\n",
    "# define the dependent variable (i.e., the outcome)\n",
    "y = data4_final['NonRefoldable']\n",
    "\n",
    "# create two LogisticRegression() objects, fit the models, get the \n",
    "# coefficients, and compute the odds ratios\n",
    "\n",
    "# model1 will not include the confounder\n",
    "model1  = sm.Logit(y, X1)\n",
    "result1 = model1.fit(disp = 0)\n",
    "\n",
    "# print a summary of result1\n",
    "print (\"\\nResults when confounding factor IS NOT included:\\n\")\n",
    "\n",
    "# get a summary of the results\n",
    "odds_ratios = pd.DataFrame({\"Coefficient\": result1.params,\n",
    "                            \"OR\"         : np.exp(result1.params),  \n",
    "                            \"Lower CI\"   : np.exp(result1.conf_int()[0]),  \n",
    "                            \"Upper CI\"   : np.exp(result1.conf_int()[1]),\n",
    "                            \"p-value\"    : result1.pvalues}).drop(index=\"intercept\", errors=\"ignore\")\n",
    "\n",
    "# print the odds ratio\n",
    "print (odds_ratios.round(3), \"\\n\")\n",
    "\n",
    "# model2 includes the confounder\n",
    "model2 = sm.Logit(y, X2)\n",
    "result2 = model2.fit(disp = 0)\n",
    "\n",
    "# print a summary of result2\n",
    "print (\"\\nResults when confounding factor IS included:\\n\")\n",
    "\n",
    "# get a summary of the results\n",
    "odds_ratios = pd.DataFrame({\"Coefficient\": result2.params,\n",
    "                            \"OR\"         : np.exp(result2.params),  \n",
    "                            \"Lower CI\"   : np.exp(result2.conf_int()[0]),  \n",
    "                            \"Upper CI\"   : np.exp(result2.conf_int()[1]),\n",
    "                            \"p-value\"    : result2.pvalues}).drop(index=\"intercept\", errors=\"ignore\")\n",
    "\n",
    "# print the odds ratio\n",
    "print (odds_ratios.round(3), \"\\n\")"
   ]
  },
  {
   "cell_type": "markdown",
   "id": "bed1db19-716b-4e69-8852-9ff083d3ac01",
   "metadata": {},
   "source": [
    "### Step 4 - Interpret the results\n",
    "* When we **do not** include the confounding factor of protein length, we get the **same odds ratio of 4.19** as we found in **Example 1.1** using Fisher's Exact Test and again find a *p*-value <<0.05\n",
    "* When we **do** include protein length as a confounding factor, we observe that **the odds ratio decreases to 3.06** for the association of entanglement with misfolding; the odds ratio for the association of protein length with misfolding is 1.00\n",
    "* The association of `uniprot_length` with disease association is not significant (*p*-value = 0.099 is >0.05)\n",
    "* We conclude that while protein length is not associated with misfolding (odds ratio = 1.00), it indirectly influences the odds ratio of the feature, likely due to its association with the feature itself\n",
    "    * Protein length is thus a partial confounding factor that explains some of the relationship between entanglement and misfolding\n",
    "    * Entanglement is still associated with misfolding, indicating that this feature has a meaningful independent association with the outcome"
   ]
  }
 ],
 "metadata": {
  "kernelspec": {
   "display_name": "Python 3 (ipykernel)",
   "language": "python",
   "name": "python3"
  },
  "language_info": {
   "codemirror_mode": {
    "name": "ipython",
    "version": 3
   },
   "file_extension": ".py",
   "mimetype": "text/x-python",
   "name": "python",
   "nbconvert_exporter": "python",
   "pygments_lexer": "ipython3",
   "version": "3.11.9"
  }
 },
 "nbformat": 4,
 "nbformat_minor": 5
}

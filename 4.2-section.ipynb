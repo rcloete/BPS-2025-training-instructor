{
 "cells": [
  {
   "cell_type": "markdown",
   "id": "4a059abe-6deb-4513-a092-271efe2d98e6",
   "metadata": {},
   "source": [
    "# Section 4 - Avoiding data overinterpretation\n",
    "\n",
    "## Example 4.2\n",
    "**Application 4.2**: In LiP-MS, one can overinterpret the statistical significance of proteolytic cut sites (that reflect potential changes in protein structure); we need to correct the *p*-values to reflect this. \n",
    "\n",
    "* Run the following code cells in sequence and follow the instructions to test your knowledge at the end"
   ]
  },
  {
   "cell_type": "markdown",
   "id": "678b9924-bf62-4047-bc91-66b5940f43ce",
   "metadata": {},
   "source": [
    "### Step 0 - Load libraries"
   ]
  },
  {
   "cell_type": "code",
   "execution_count": null,
   "id": "e44e8e8e-a1b8-4f2e-be2d-1c3cf22dcb8f",
   "metadata": {},
   "outputs": [],
   "source": [
    "import pandas as pd\n",
    "from statsmodels.stats.multitest import multipletests\n",
    "import matplotlib.pyplot as plt"
   ]
  },
  {
   "cell_type": "markdown",
   "id": "1a26cce7-b908-4afa-93cd-74301e62758c",
   "metadata": {},
   "source": [
    "### Step 1 - Load the data\n",
    "\n",
    "* We will be using a new dataset for this analysis that includes information about the protein fragments detected during a LiP-MS experiment"
   ]
  },
  {
   "cell_type": "code",
   "execution_count": null,
   "id": "775f47e4-0d02-4f25-801c-94ec17a745d1",
   "metadata": {},
   "outputs": [],
   "source": [
    "# \"data10\" is a pandas DataFrame object\n",
    "data_path = \"/home/jovyan/data-store/data/iplant/home/shared/NCEMS/BPS-training-2025/\"\n",
    "data10 = pd.read_csv(data_path + \"Ecoli_LiPMS_data.csv\", usecols = [\"Accession\", \"PeptidePValue1\"])"
   ]
  },
  {
   "cell_type": "markdown",
   "id": "fa364e30-6541-47d3-aec1-b9dacdcfd42b",
   "metadata": {},
   "source": [
    "### Step 2 - Explore the data"
   ]
  },
  {
   "cell_type": "code",
   "execution_count": null,
   "id": "978ea20c-1128-4271-8bc5-edb5fbdb8b83",
   "metadata": {},
   "outputs": [],
   "source": [
    "# print a quick summary of \"data10\"\n",
    "data10.info()\n",
    "\n",
    "# print the first 10 rows of \"data10\"\n",
    "data10.head(10)"
   ]
  },
  {
   "cell_type": "markdown",
   "id": "f30f6aa5-11f2-4a13-ba1c-012f1248b913",
   "metadata": {},
   "source": [
    "* Note that in the `pd.read_csv()` function call we have specified `usecols = [\"Accession\", \"PeptidePValue1\"]`, which causes only these two columns to be loaded; loading only the data you need can save memory and accelerate calculations\n",
    "* We have a list of `Accession` codes alongside `PeptidePValue1` which represents the *p*-value\n",
    "* Inspecting the *p*-values, we can see that they are not between 0 and 1 as we would expect; in this case, the input data set presents the *negative log base 10* of the *p*-values\n",
    "* We will need to convert these -log10 values before carrying out the **false discovery rate** correction"
   ]
  },
  {
   "cell_type": "markdown",
   "id": "e0951415-ff5b-43ae-b383-b20e6458c54c",
   "metadata": {},
   "source": [
    "### Step 3 - Run the analysis\n",
    "\n",
    "* We are now ready to run our analysis (after converting the *p*-values from -log10)"
   ]
  },
  {
   "cell_type": "code",
   "execution_count": null,
   "id": "6ab57c1d-051e-4e50-b927-cff5d99b727d",
   "metadata": {},
   "outputs": [],
   "source": [
    "# define the significance level for our tests\n",
    "alpha = 0.05\n",
    "\n",
    "# convert p-values from -log10 and add these values as a new column\n",
    "data10[\"PeptidePValue1_orig\"] = 10 ** (-data10[\"PeptidePValue1\"])\n",
    "display(data10.head(10))\n",
    "\n",
    "# apply the Benjamini-Hochberg procedure for FDR correction\n",
    "_, pvals_corrected, _, _ = multipletests(data10['PeptidePValue1_orig'], alpha = alpha, method = 'fdr_bh')\n",
    "\n",
    "# add corrected p-values as a new column\n",
    "data10['PeptidePValue1_adjust'] = pvals_corrected\n",
    "\n",
    "# compute the proportion of uncorrected p-values < alpha\n",
    "N_uncorr_acc = (data10['PeptidePValue1_orig'] < alpha).sum()\n",
    "N_corr_acc   = (data10['PeptidePValue1_adjust'] < alpha).sum()\n",
    "print (\"Using the uncorrected p-values, we would conclude\", N_uncorr_acc, \"peptides are significantly different between the treated & untreated samples\")\n",
    "print (\"Using the corrected p-values, we would conclude\", N_corr_acc, \"peptides are significantly different between the treated & untreated samples\")\n",
    "\n",
    "# make a plot of the distribution of p-values before & after the FDR correction\n",
    "plt.clf()\n",
    "plt.title(\"Histogram\")\n",
    "plt.hist(data10[\"PeptidePValue1_orig\"], color = \"#004488\", alpha = 0.7, label = \"Uncorrected\", histtype = \"step\", bins = \"fd\", linewidth=2.5) # here, alpha != significance level\n",
    "plt.hist(data10[\"PeptidePValue1_adjust\"], color = \"#BB5566\", alpha = 0.7, label = \"Corrected\", histtype = \"step\", bins = \"fd\", linewidth=2.5)\n",
    "plt.xlabel(\"p-value\")\n",
    "plt.ylabel(\"Counts\")\n",
    "plt.legend(loc = \"best\")\n",
    "plt.tight_layout()\n",
    "plt.show()\n",
    "\n",
    "# make a plot of the cumulative distribution function of p-values before & after the FDR correction\n",
    "plt.clf()\n",
    "plt.title(\"Cumulative distribution function\")\n",
    "plt.hist(data10[\"PeptidePValue1_orig\"], color = \"#004488\", alpha = 0.7, label = \"Uncorrected\", histtype = \"step\", bins = \"fd\", cumulative = True, density = True, linewidth=2.5) # here, alpha != significance level\n",
    "plt.hist(data10[\"PeptidePValue1_adjust\"], color = \"#BB5566\", alpha = 0.7, label = \"Corrected\", histtype = \"step\", bins = \"fd\", cumulative = True, density = True, linewidth=2.5)\n",
    "plt.xlabel(\"p-value\")\n",
    "plt.ylabel(\"Cumulative probability\")\n",
    "plt.legend(loc = \"best\")\n",
    "plt.tight_layout()\n",
    "plt.show()"
   ]
  },
  {
   "cell_type": "markdown",
   "id": "b6a762a0-b8ef-420a-b7cd-a4cc38b16dd3",
   "metadata": {},
   "source": [
    "### Step 4 - Interpret the results\n",
    "\n",
    "* Use the QR code below to access a quiz question to test your knowledge about FDR correction\n",
    "\n",
    "![](../images/section-4-example-2.png)\n",
    "\n",
    "[Quiz Link](https://forms.gle/MN6jQaE6AjiJvEfb9)"
   ]
  }
 ],
 "metadata": {
  "kernelspec": {
   "display_name": "Python 3 (ipykernel)",
   "language": "python",
   "name": "python3"
  },
  "language_info": {
   "codemirror_mode": {
    "name": "ipython",
    "version": 3
   },
   "file_extension": ".py",
   "mimetype": "text/x-python",
   "name": "python",
   "nbconvert_exporter": "python",
   "pygments_lexer": "ipython3",
   "version": "3.11.9"
  }
 },
 "nbformat": 4,
 "nbformat_minor": 5
}
